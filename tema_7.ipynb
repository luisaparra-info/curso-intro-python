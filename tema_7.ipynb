{
 "cells": [
  {
   "cell_type": "markdown",
   "metadata": {
    "slideshow": {
     "slide_type": "slide"
    },
    "tags": []
   },
   "source": [
    "<font size=6>\n",
    "\n",
    "<b>Curso de Programación en Python</b>\n",
    "</font>\n",
    "\n",
    "<font size=4>\n",
    "    \n",
    "Curso de formación interna, CIEMAT. <br/>\n",
    "Madrid, marzo de 2023\n",
    "\n",
    "Antonio Delgado Peris\n",
    "</font>\n",
    "\n",
    "https://github.com/andelpe/curso-intro-python/\n",
    "\n",
    "<br/>"
   ]
  },
  {
   "cell_type": "markdown",
   "metadata": {},
   "source": [
    "# Tema 7 - Clases y objetos"
   ]
  },
  {
   "cell_type": "markdown",
   "metadata": {},
   "source": [
    "## Objetivos\n",
    "\n",
    "- Conocer cómo funciona la programación orientada a objetos (_OOP_) en Python\n",
    "  - Definir clases como nuevos tipos de datos\n",
    "  - Instanciar y usar objetos de clases\n",
    "  - Aplicar a python conceptos clásicos de O.O.P\n",
    "    - Privacidad, Herencia, Polimorfismo\n",
    "- Manejar las clases mismas como objetos"
   ]
  },
  {
   "cell_type": "markdown",
   "metadata": {},
   "source": [
    "## Programación orientada a objetos\n",
    "\n",
    "La programación orientada a objetos (O.O.P.) es un modelo (paradigma) de programación, que se basa en los siguientes principios:\n",
    "\n",
    "- Centrar el programa en los datos, antes que en la lógica que usa esos datos.\n",
    "- Agrupar datos y funciones (lógica) en _objetos_ que pertenecen a _clases_ (tipos definidos por el programador)\n",
    "- Los objetos modelizan entidades del mundo real\n",
    "- Se ocultan los detalles de la implementación tras un interfaz (_Encapsulación_)\n",
    "- Se prima la reutilización de código, y la jerarquización de clases usando _Herencia_ (unas clases extienden a otras)\n",
    "- La jerarquía de clases y la herencia permiten obtener _Polimorfismo_ (en Python, se consigue de otra manera)\n",
    "\n",
    "La O.O.P es una manera de afrontar problemas. Es posible utilizarla con casi cualquier lenguaje, pero algunos están diseñados específicamente para ello:\n",
    "\n",
    "- Con C es difícil, con C++ posible, con Java obligatorio\n",
    "- En python, la O.O.P es opcional, lo que algunos consideran un modelo menos elegante, pero en la práctica es versátil\n",
    "\n",
    "Es imposible enseñar O.O.P. desde cero en un curso introductorio, pero podemos mostrar cómo se hace técnicamente en Python para aquellos que ya la conocen de otros lenguajes (o que la pueden necesitar en el futuro)."
   ]
  },
  {
   "cell_type": "markdown",
   "metadata": {},
   "source": [
    "## Clases e instancias\n",
    "\n",
    "Las clases definen un _tipo_ de objetos\n",
    "\n",
    "- Crean su propio namespace\n",
    "- Definen atributos (miembros): \n",
    "  - Datos\n",
    "  - Funciones (métodos)\n",
    "    \n",
    "Las _instancias_ de una clase son los _objetos_, cuyo tipo es esa clase.\n",
    "\n",
    "  - Se pueden definir múltiples instancias para una misma clase\n",
    "  \n",
    "Ya hemos visto muchos objetos:\n",
    "\n",
    "- Clase: `int`.  Objetos: `3`, `int('4')`. Atributo: `int('4').real`\n",
    "- Clase: `str`.  Objetos: `'abc'`, `'xy'`. Método: `'xy'.split`"
   ]
  },
  {
   "cell_type": "code",
   "execution_count": null,
   "metadata": {},
   "outputs": [],
   "source": [
    "d = dict(a=3, b=5)\n",
    "print(type(d))"
   ]
  },
  {
   "cell_type": "markdown",
   "metadata": {},
   "source": [
    "### Nuevas clases\n",
    "\n",
    "Podemos crear nuevos tipos de datos, definiendo clases con:\n",
    "\n",
    "```python\n",
    "class <nombre>:\n",
    "    instrucción\n",
    "    instrucción\n",
    "    ...\n",
    "```\n",
    "\n",
    "Lo más esencial de una clase son las funciones miembro.\n",
    "\n",
    "- La función `__init__` es especial; es el _constructor_, que se llama cuando se crea una nueva instancia de la clase.\n",
    "- El primer argumento de todos los métodos (`self`) es una referencia a la instancia llamante (pasada automáticamente)\n",
    "- Si definimos atributos de `self` estamos creando un atributo de instancia (diferente para cada instancia)"
   ]
  },
  {
   "cell_type": "code",
   "execution_count": 1,
   "metadata": {},
   "outputs": [
    {
     "name": "stdout",
     "output_type": "stream",
     "text": [
      "Sumador, val: 3\n"
     ]
    }
   ],
   "source": [
    "class Sumador:\n",
    "    \"\"\"\n",
    "    Class keeping track of a value, which can only increase.\n",
    "    \"\"\"\n",
    "    def __init__(self, start):\n",
    "        \"\"\"\n",
    "        Constructor, accepting the initial value to track.\n",
    "        \"\"\"\n",
    "        self.val = start\n",
    "\n",
    "    def __str__(self):\n",
    "        return f'Sumador, val: {self.val}'\n",
    "        \n",
    "    def add(self, amount):\n",
    "        \"\"\"\n",
    "        Adds the specified 'amount' from tracked value\n",
    "        \"\"\"        \n",
    "        self.val += amount\n",
    "\n",
    "# Llamamos a 'Numero.__init__', 'self' apunta al nuevo objeto 's1', 'val' a 3\n",
    "s1 = Sumador(3)  \n",
    "print(s1)"
   ]
  },
  {
   "cell_type": "code",
   "execution_count": 2,
   "metadata": {},
   "outputs": [
    {
     "name": "stdout",
     "output_type": "stream",
     "text": [
      "s1.val: 8\n",
      "\n",
      "type(s1): <class '__main__.Sumador'>\n",
      "type(Sumador): <class 'type'>\n"
     ]
    }
   ],
   "source": [
    "# Llamamos a 'Numero.add', 'amount' es 5\n",
    "s1.add(5) \n",
    "\n",
    "# Accedemos al atributo 'val' de la instancia 's1'\n",
    "print('s1.val:', s1.val) \n",
    "\n",
    "print('\\ntype(s1):', type(s1))\n",
    "print('type(Sumador):', type(Sumador))"
   ]
  },
  {
   "cell_type": "markdown",
   "metadata": {},
   "source": [
    "<br/>\n",
    "\n",
    "También se pueden definir atributos _de clase_, compartidas por todas las instancias, y por la clase en sí."
   ]
  },
  {
   "cell_type": "code",
   "execution_count": null,
   "metadata": {},
   "outputs": [],
   "source": [
    "class Pcg:\n",
    "    \n",
    "    const = 100\n",
    "    \n",
    "    def __init__(self, val):  \n",
    "        self.val = val\n",
    "    \n",
    "    def pcg(self, num):\n",
    "        return Pcg.const * num/self.val\n",
    "\n",
    "p = Pcg(1000)\n",
    "print(p.pcg(300))\n",
    "\n",
    "p2 = Pcg(500)\n",
    "print(p2.pcg(300))\n",
    "\n",
    "print()\n",
    "print(Pcg.const)\n",
    "print(p.const, p.val)\n",
    "print(p2.const, p2.val)"
   ]
  },
  {
   "cell_type": "markdown",
   "metadata": {},
   "source": [
    "Incluso podemos definir/modificar variables de clase o instancia dinámicamente (sin existir en su definición). Lo que nos permite usar una clase/instancia como una especie de diccionario."
   ]
  },
  {
   "cell_type": "code",
   "execution_count": null,
   "metadata": {},
   "outputs": [],
   "source": [
    "Pcg.const2 = 500\n",
    "print(Pcg.const2)\n",
    "print(p.const2)\n",
    "\n",
    "p.new = 20\n",
    "print(p.new)"
   ]
  },
  {
   "cell_type": "markdown",
   "metadata": {},
   "source": [
    "Un ejemplo de uso de las variables de clase puede ser una clase que símplemente sea un _contenedor_ de valores."
   ]
  },
  {
   "cell_type": "code",
   "execution_count": null,
   "metadata": {},
   "outputs": [],
   "source": [
    "class color:\n",
    "    BLUE = '\\033[94m'\n",
    "    GREEN = '\\033[92m'\n",
    "    YELLOW = '\\033[93m'\n",
    "    RED = '\\033[91m'\n",
    "    BOLD = '\\033[1m'\n",
    "    UNDERLINE = '\\033[4m'\n",
    "    END = '\\033[0m'\n",
    "\n",
    "print(color.BOLD + color.BLUE + 'Hello World !' + color.END)"
   ]
  },
  {
   "cell_type": "markdown",
   "metadata": {},
   "source": [
    "<br/>\n",
    "\n",
    "<div style=\"background-color:powderblue;\">\n",
    "\n",
    "**EJERCICIO e7_1:** \n",
    "\n",
    "Crear una clase `Persona`, con atributos `nombre`, y `edad`, y con una función `saludo`, que devuelva una frase (`str`) presentándose (incluyendo la información de nombre y edad).\n",
    "\n",
    "Instanciar un objeto de tipo `Persona`, mostrar el valor de sus atributos y el producido por la función `saludo`, así como el tipo del objeto creado."
   ]
  },
  {
   "cell_type": "code",
   "execution_count": 11,
   "metadata": {},
   "outputs": [
    {
     "name": "stdout",
     "output_type": "stream",
     "text": [
      "Hola, me llamo Pepe y tengo 34\n"
     ]
    },
    {
     "data": {
      "text/plain": [
       "'Hola, me llamo Pepe y tengo 34'"
      ]
     },
     "execution_count": 11,
     "metadata": {},
     "output_type": "execute_result"
    }
   ],
   "source": [
    "class Persona:\n",
    "    def __init__(self,nombre,edad) -> None:\n",
    "      self.__nombre=nombre\n",
    "      self.__edad=edad\n",
    "    '''\n",
    "        Devuelve el nombre de la persona\n",
    "    '''\n",
    "    def getNombre(self) -> str:\n",
    "      return self.__nombre\n",
    "    \n",
    "    \"\"\"\n",
    "    Devuelve la edad de la persona\n",
    "    \"\"\"\n",
    "    def getEdad(self) -> int:\n",
    "      return self.__edad\n",
    "\n",
    "\n",
    "    def saludo(self) -> str:\n",
    "       return f\"Hola, me llamo {self.getNombre()} y tengo {self.getEdad()}\"\n",
    "    def __str__(self) -> str:\n",
    "       return f\"Hola, me llamo {self.__nombre} y tengo {self.__edad}\"\n",
    "\n",
    "\n",
    "\n",
    "\n",
    "pepe = Persona(\"Pepe\",\"34\")\n",
    "print(pepe) \n",
    "pepe.saludo()     \n"
   ]
  },
  {
   "cell_type": "markdown",
   "metadata": {},
   "source": [
    "<br/>\n",
    "\n",
    "**NOTA** (_avanzado_): \n",
    "\n",
    "Hemos visto los atributos de instancia y de clase. También existen _métodos_ de instancia y de clase, e incluso un tercer tipo: _estáticos_.\n",
    "\n",
    "Por defecto, los métodos que definimos son _de instancia_. Es decir, reciben una referencia a la instancia como primer argumento (`self`, por convención).\n",
    "\n",
    "Los _métodos de clase_ reciben una referencia a la clase (en lugar de a la instancia) como primer argumento, y los _métodos estáticos_ no reciben ningún primer argumento especial.\n",
    "\n",
    "Para definir métodos de clase o estáticos debemos usar el _decorador_ apropiado:\n",
    "\n",
    "```python\n",
    "class X:\n",
    "\n",
    "  @classmethod\n",
    "  def f1(cls, arg1):\n",
    "      bla bla\n",
    "\n",
    "  @staticmethod\n",
    "  def f2(arg1, arg2):\n",
    "      bla bla\n",
    "```\n",
    "\n",
    "Hablaremos sobre decoradores en el próximo tema."
   ]
  },
  {
   "cell_type": "markdown",
   "metadata": {},
   "source": [
    "## Privacidad y convenciones\n",
    "\n",
    "En muchos lenguajes se fuerza la privacidad de los miembros:\n",
    "\n",
    "- Algunos métodos no son accesibles\n",
    "- Se desaconseja el acceso directo a los datos atributos (se usan _setters_ y _getters_)\n",
    "\n",
    "\n",
    "En Python, todo queda a la voluntad del llamante (no se imponen restricciones)\n",
    "\n",
    "- Convención: atributos privados comienzan con ‘_’ (no utilizarlos en código a mantener)\n",
    "- Nota: no usar nombres con `__<nombre>__`, que tienen usos especiales, como `__init__`\n",
    "\n",
    "En Python, se considera adecuado acceder directamente a atributos (`instancia.dato`)\n",
    "\n",
    "- Pero existe un modo de interponer un interfaz controlado si es necesario (`Properties`)"
   ]
  },
  {
   "cell_type": "markdown",
   "metadata": {},
   "source": [
    "<br/>\n",
    "\n",
    "<div style=\"background-color:powderblue;\">\n",
    "\n",
    "**EJERCICIO e7_2:** \n",
    "\n",
    "Modificar la clase `Persona` del ejercicio, eliminando `edad`, y añadiendo en su lugar un atributo _privado_ `nacimiento`, con su año de nacimiento. Crear ahora una función `edad` que devuelva la edad (aproximada) como la resta del año actual y el del nacimiento. Actualizar también la función `saludo`, en base a los cambios anteriores.\n",
    "    \n",
    "- Nota: el año actual se puede obtener como `datetime.date.today().year` (módulo `datetime`).     \n",
    "\n",
    "Instanciar un objeto del nuevo tipo `Persona`, y mostrar la edad de la persona y el saludo."
   ]
  },
  {
   "cell_type": "markdown",
   "metadata": {},
   "source": [
    "<br/>\n",
    "\n",
    "<div style=\"background-color:powderblue;\">\n",
    "\n",
    "**EJERCICIO e7_3:** \n",
    "\n",
    "Crear una clase `Grafo` que represente a un grafo.\n",
    "    \n",
    "- Contendrá un atributo diccionario (privado) con información sobre nodos y conexiones (como en temas anteriores).\n",
    "    \n",
    "- Su constructor será: `__init__(self, dicc)`\n",
    "    \n",
    "- Ofrecerá los siguientes métodos (utilizar las funciones de `modulos.graph_plot`):\n",
    "  - `path(start, end)`:  devuelve el path entre dos nodos, `start` y `end`, como lista de nodos \n",
    "  - `draw(path=None)` : muestra un plot del grafo, opcionalmente marcando un camino entre dos nodos\n",
    "\n",
    "Instanciar un objeto de tipo `Grafo`, y probar los métodos anteriores."
   ]
  },
  {
   "cell_type": "markdown",
   "metadata": {},
   "source": [
    "## Herencia\n",
    "\n",
    "Una clase que extiende a otra, hereda sus atributos (sin reescribirlos)\n",
    "\n",
    "- Puede usarlos, redefinirlos, añadir nuevos\n",
    "- Python soporta la herencia múltiple (no la vamos a ver)\n"
   ]
  },
  {
   "cell_type": "code",
   "execution_count": null,
   "metadata": {},
   "outputs": [],
   "source": [
    "class Medidor(Sumador):\n",
    "    \"\"\"\n",
    "    Class keeping track of a value, which can increase or decrease, but\n",
    "    not below the specified minimum.\n",
    "    \"\"\"\n",
    "    \n",
    "    def __init__(self, start, minimum):\n",
    "        \"\"\"\n",
    "        Constructor, accepting the initial value to track, and the minimum.\n",
    "        \"\"\"\n",
    "        super().__init__(start)   # Invocamos el constructor de Sumador\n",
    "        self.minimum = minimum\n",
    "        \n",
    "    def __str__(self):       # Método modificado\n",
    "        return f'Medidor, min: {self.minimum}, val: {self.val}'\n",
    "        \n",
    "    def sub(self, amount):   # Nuevo método\n",
    "        \"\"\"\n",
    "        Substracts the specified 'amount' from tracked value\n",
    "        \"\"\"\n",
    "        self.val = max(self.minimum, self.val - amount)\n",
    "        \n",
    "\n",
    "m1 = Medidor(10, 5)\n",
    "print(m1)\n",
    "\n",
    "m1.add(2)\n",
    "print(m1)\n",
    "\n",
    "m1.sub(5)\n",
    "print(m1)\n",
    "\n",
    "m1.sub(5)\n",
    "print(m1)"
   ]
  },
  {
   "cell_type": "code",
   "execution_count": null,
   "metadata": {},
   "outputs": [],
   "source": [
    "print(f\"Tipo de s1: {type(s1)}; tipo de m1: {type(m1)}\")"
   ]
  },
  {
   "cell_type": "code",
   "execution_count": null,
   "metadata": {},
   "outputs": [],
   "source": [
    "print(isinstance(m1, Medidor), isinstance(m1, Sumador))\n",
    "print(isinstance(s1, Medidor), isinstance(s1, Sumador))"
   ]
  },
  {
   "cell_type": "code",
   "execution_count": null,
   "metadata": {},
   "outputs": [],
   "source": [
    "print(hasattr(s1, 'sub'), hasattr(m1, 'sub'))"
   ]
  },
  {
   "cell_type": "markdown",
   "metadata": {},
   "source": [
    "## Polimorfismo\n",
    "\n",
    "Un objeto puede servir diferentes roles, y una operación puede aceptar diferentes objetos.\n",
    "\n",
    "- En algunos lenguajes el polimorfismo en O.O.P. va ligado a la herencia:\n",
    "\n",
    "```java\n",
    "funcion(Figura fig) {\n",
    "   // Acepta Figura, Cuadro y Circulo\n",
    "   fig.draw()\n",
    "}\n",
    "```\n",
    "\n",
    "![polim_1](images/t7_polim_1.png)\n",
    "\n",
    "\n",
    "- En python va implícito en el tipado dinámico\n",
    "\n",
    "```python\n",
    "def funcion(fig): # Acepta cualquier cosa \n",
    "    fig.draw()    # que implemente draw()\n",
    "```\n",
    "\n",
    "![polim_2](images/t7_polim_2.png)\n"
   ]
  },
  {
   "cell_type": "markdown",
   "metadata": {},
   "source": [
    "<br/>\n",
    "\n",
    "<div style=\"background-color:powderblue;\">\n",
    "\n",
    "**EJERCICIO e7_4:** \n",
    "\n",
    "Ampliar la clase `Grafo` en una clase que herede de ella: `GrafoDict`\n",
    "    \n",
    "Posibilitar acceso directo a los nodos con la siguiente notación:\n",
    "\n",
    "```python    \n",
    "  g = GrafoDict(…)\n",
    "  g['C'] = ['B', 'E']\n",
    "  print(g['C'])\n",
    "```\n",
    "\n",
    "<br/>\n",
    "    \n",
    "Para ello, añadir los métodos especiales `__getitem__(self, node)`, y `__setitem__(self, node, val)`, a la implementación de e7_3."
   ]
  },
  {
   "cell_type": "markdown",
   "metadata": {},
   "source": [
    "<br/>\n",
    "\n",
    "<div style=\"background-color:powderblue;\">\n",
    "\n",
    "**EJERCICIO e7_5:** \n",
    "\n",
    "Reescribir la clase anterior, como una nueva `DictGrafo`, que herede de `dict`, ampliándola con los métodos propios `path` y `draw`. Comprobar también si podemos usar `len`, o `keys`, con objetos `GrafoDict` y `DictGrafo`.\n",
    "    \n",
    "Nota: La clase `dict` ofrece un constructor que acepta a otro diccionario como argumento, y que podemos utilizar directamente (i.e.: no necesitamos codificar `__init__`). Por ejemplo:\n",
    "\n",
    "```python\n",
    "  d = {'a': 1, 'b'}\n",
    "  d2 = dict(d)\n",
    "```\n",
    "Aquí `d2` es un _nuevo_ diccionario, con una copia de los contenidos de `d`."
   ]
  },
  {
   "cell_type": "markdown",
   "metadata": {},
   "source": [
    "### Inciso: Desarrollo guiado por pruebas (_Test-driven programming_)\n",
    "\n",
    "Una práctica común (y muy deseable) a la hora de desarrollar código es crear pruebas que aseguren que nuestro código funciona como se espera. Sirve para estar seguros de que cumplimos los requisitos para nuestro programa, y también para asegurarnos de que futuras modificaciones no crean _bugs_ en partes del código que ya estaban terminadas.\n",
    "\n",
    "El paquete externo `pytest` facilita estas prácticas. Pytest busca tests dentro de ficheros llamados `test_*.py` (o `*_test.py`), en funciones llamadas `test_*`).\n",
    "\n",
    "Veamos los tests de `ejemplos/test_simple.py`, que comprueban la función `pcg`. Por ahora, todos los tests fallarán. \n",
    "\n",
    "Se puede usar con el comando `pytest [<fichero/directorio>]`, o desde el propio Python."
   ]
  },
  {
   "cell_type": "code",
   "execution_count": null,
   "metadata": {
    "tags": []
   },
   "outputs": [],
   "source": [
    "import pytest\n",
    "pytest.main(['ejemplos/test_simple.py'])"
   ]
  },
  {
   "cell_type": "markdown",
   "metadata": {},
   "source": [
    "<div style=\"background-color:powderblue;\">\n",
    "\n",
    "**EJERCICIO e7_6:** _Test-driven_ programming.\n",
    "    \n",
    "Modificar la función `pcg` en `ejemplos/test_simple.py` para que, dados los argumentos `a` y `b` devuelva qué porcentaje representa `a` con respecto de `b`, y consiguiendo que todos los tests definidos a continuación pasen satisfactoriamente.\n",
    "\n",
    "- Nota: utilizar el código `raise ValueError` para lanzar la excepción de signo."
   ]
  },
  {
   "cell_type": "markdown",
   "metadata": {},
   "source": [
    "## Las clases también son objetos\n",
    "\n",
    "Al igual que sucede con las funciones, podemos usar las clases mismas como objetos: asignarlos a una variable, pasarlas como argumento a una función, etc."
   ]
  },
  {
   "cell_type": "code",
   "execution_count": null,
   "metadata": {},
   "outputs": [],
   "source": [
    "def objectFactory(clase, args):\n",
    "    return clase(*args)\n",
    "\n",
    "var = Medidor\n",
    "m2 = objectFactory(Medidor, (10, 0))\n",
    "\n",
    "print(m2)"
   ]
  },
  {
   "cell_type": "code",
   "execution_count": null,
   "metadata": {},
   "outputs": [],
   "source": [
    "help(var)"
   ]
  },
  {
   "cell_type": "markdown",
   "metadata": {},
   "source": [
    "<br/>\n",
    "\n",
    "<div style=\"background-color:powderblue;\">\n",
    "\n",
    "**EJERCICIO e7_7:** Probar las implementaciones realizadas de `Grafo`, `GrafoDict` y `DictGrafo`.\n",
    "\n",
    "Para ello, hacer lo siguiente:\n",
    "  \n",
    "- Crear un módulo `grafos.py`, **en la carpeta raíz**, con el código correspondiente a las 3 clases.\n",
    "    \n",
    "- Abrir `ejemplos/test_grafos.py`, que contiene los tests a realizar, y pensar cuántos se realizarán, y cuáles son los resultados esperados.\n",
    "    \n",
    "- Ejecutar el siguiente código:\n",
    "\n",
    "  ```python\n",
    "  import pytest\n",
    "  pytest.main(['-v', 'ejemplos/test_grafos.py'])\n",
    "  ```    \n",
    "\n",
    "____"
   ]
  }
 ],
 "metadata": {
  "kernelspec": {
   "display_name": "Python 3.7.6 64-bit",
   "language": "python",
   "name": "python3"
  },
  "language_info": {
   "codemirror_mode": {
    "name": "ipython",
    "version": 3
   },
   "file_extension": ".py",
   "mimetype": "text/x-python",
   "name": "python",
   "nbconvert_exporter": "python",
   "pygments_lexer": "ipython3",
   "version": "3.7.6"
  },
  "vscode": {
   "interpreter": {
    "hash": "aee8b7b246df8f9039afb4144a1f6fd8d2ca17a180786b69acc140d282b71a49"
   }
  }
 },
 "nbformat": 4,
 "nbformat_minor": 4
}
