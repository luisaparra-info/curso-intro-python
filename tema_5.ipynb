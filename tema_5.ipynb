{
 "cells": [
  {
   "cell_type": "markdown",
   "metadata": {
    "slideshow": {
     "slide_type": "slide"
    },
    "tags": []
   },
   "source": [
    "<font size=6>\n",
    "\n",
    "<b>Curso de Programación en Python</b>\n",
    "</font>\n",
    "\n",
    "<font size=4>\n",
    "    \n",
    "Curso de formación interna, CIEMAT. <br/>\n",
    "Madrid, marzo de 2023\n",
    "\n",
    "Antonio Delgado Peris\n",
    "</font>\n",
    "\n",
    "https://github.com/andelpe/curso-intro-python/\n",
    "\n",
    "<br/>"
   ]
  },
  {
   "cell_type": "markdown",
   "metadata": {
    "tags": []
   },
   "source": [
    "# Tema 5 - Entrada y Salida"
   ]
  },
  {
   "cell_type": "markdown",
   "metadata": {
    "tags": []
   },
   "source": [
    "## Objetivos\n",
    "\n",
    "- Conocer mejor los strings, en particular la aplicación de formato\n",
    "- Ser capaz de leer y escribir de ficheros\n",
    "- Ser capaz de leer de la entrada estándar (`input`)\n",
    "- Introducir formatos de serialización de datos: `pickle` y `json`"
   ]
  },
  {
   "cell_type": "markdown",
   "metadata": {},
   "source": [
    "## Más sobre strings\n",
    "\n",
    "### Definición de strings\n",
    "\n",
    "- Una manera avanzada de definir strings largos es concatenarlas con espacios o saltos de líneas"
   ]
  },
  {
   "cell_type": "code",
   "execution_count": 4,
   "metadata": {},
   "outputs": [
    {
     "name": "stdout",
     "output_type": "stream",
     "text": [
      "two strings auto-concatenated\n",
      "also with line breaks\n"
     ]
    }
   ],
   "source": [
    "s = 'two strings ' 'auto-concatenated'\n",
    "print(s)\n",
    "s2 = ('also '\n",
    "      'with '\n",
    "      'line breaks')\n",
    "print(s2)"
   ]
  },
  {
   "cell_type": "markdown",
   "metadata": {},
   "source": [
    "- Se pueden incluir caracteres _especiales_ con `\\`"
   ]
  },
  {
   "cell_type": "code",
   "execution_count": 6,
   "metadata": {},
   "outputs": [
    {
     "name": "stdout",
     "output_type": "stream",
     "text": [
      "Ejemplo: \\t: un tabulador, \n",
      ": un salto de línea, o la propia \\\n"
     ]
    }
   ],
   "source": [
    "print(\"Ejemplo: \\\\t: un tabulador, \\n: un salto de línea, o la propia \\\\\")"
   ]
  },
  {
   "cell_type": "markdown",
   "metadata": {},
   "source": [
    "- Pero con el modificador `r`, creamos _raw strings_, que no interpretan nada:"
   ]
  },
  {
   "cell_type": "code",
   "execution_count": 1,
   "metadata": {},
   "outputs": [
    {
     "name": "stdout",
     "output_type": "stream",
     "text": [
      "En este ejemplo no hay nada especial: \\t \\n \\\\\n"
     ]
    }
   ],
   "source": [
    "print(r\"En este ejemplo no hay nada especial: \\t \\n \\\\\")"
   ]
  },
  {
   "cell_type": "markdown",
   "metadata": {},
   "source": [
    "### Conversión a strings\n",
    "\n",
    "En Python, no hay conversión de tipos como tal. Lo que se hace es crear un nuevo objeto, a partir de uno dado.\n",
    "\n",
    "Podemos generar un objeto string que represente a cualquier objeto Python `obj`, con: `str(obj)`.\n",
    "\n",
    "- En realidad, estamos llamando al _constructor_ de la clase `str`, y generando un nuevo objeto string.\n",
    "\n",
    "También existe la función `repr(obj)`, que también crea un string representando a `obj`, pero en un formato válido para usar en un programa Python (p.ej. con `eval`).\n",
    "\n",
    "- En la práctica, `str()` y `repr()` devuelven el mismo resultado para la mayoría de tipos comunes.\n",
    "\n",
    "Nota: La función `print` acepta argumentos de cualquier tipo, e internamente utiliza `str()` para convertirlos\n",
    "\n",
    "- En caso de ambigüedad, siempre podemos usar `str()` explícitamente."
   ]
  },
  {
   "cell_type": "code",
   "execution_count": 7,
   "metadata": {},
   "outputs": [
    {
     "name": "stdout",
     "output_type": "stream",
     "text": [
      "Muestro un entero: 3\n",
      "O un string: 3\n",
      "<class 'int'> <class 'str'>\n"
     ]
    }
   ],
   "source": [
    "print('Muestro un entero:', 3)\n",
    "print('O un string:', str(3))\n",
    "print(type(3), type(str(3)))"
   ]
  },
  {
   "cell_type": "markdown",
   "metadata": {},
   "source": [
    "### Formateo de strings\n",
    "\n",
    "- Existen varias maneras de formatear strings e incluir valores de variables:\n",
    "\n",
    "  - Método más antiguo: operador `%`\n",
    "  - Método antiguo: función `format` (python 2.7 y python 3)\n",
    "  - Método más reciente: _fstrings_  (solo desde python 3.6)\n",
    "\n",
    "En este notebook, usaremos _fstrings_ cuando necesitemos formatear.\n",
    "\n",
    "- Pero los otros aparecen habitualmente, así que, al menos, conviene saber _leerlos_"
   ]
  },
  {
   "cell_type": "code",
   "execution_count": 10,
   "metadata": {},
   "outputs": [
    {
     "name": "stdout",
     "output_type": "stream",
     "text": [
      "My var is 3, or 3.000000\n",
      "My var is 3, or 4.000000\n",
      "My var is 3, or 3.000000\n",
      "My var is 3 , or 3\n"
     ]
    }
   ],
   "source": [
    "var = 3\n",
    "print(\"My var is %s, or %f\" % (var, var))\n",
    "print(\"My var is {0}, or {1:f}\".format(var,4))\n",
    "print(f\"My var is {var}, or {var:f}\")\n",
    "print(\"My var is\", var, \", or\", var)"
   ]
  },
  {
   "cell_type": "markdown",
   "metadata": {},
   "source": [
    "<br/>\n",
    "\n",
    "Las _fstrings_ soportan operaciones arbitrarias y de formato (usando `:<modificador>`) en sus expresiones."
   ]
  },
  {
   "cell_type": "code",
   "execution_count": 13,
   "metadata": {},
   "outputs": [
    {
     "name": "stdout",
     "output_type": "stream",
     "text": [
      "Twice my var is: 250\n",
      "Precision: 125.00\n",
      "Padding:      125\n",
      "Padding: abc     \n",
      "Padding with char: _____abc\n",
      "Inverse adding: abc_____\n"
     ]
    }
   ],
   "source": [
    "var = 125\n",
    "print(f'Twice my var is: {2*var}')\n",
    "print(f'Precision: {var:.2f}')\n",
    "\n",
    "print(f'Padding: {var:8}')\n",
    "var = 'abc'\n",
    "print(f'Padding: {var:8}')\n",
    "\n",
    "print(f'Padding with char: {var:_>8}')\n",
    "print(f'Inverse adding: {var:_<8}')"
   ]
  },
  {
   "cell_type": "markdown",
   "metadata": {},
   "source": [
    "<br/>\n",
    "\n",
    "<div style=\"background-color:powderblue;\">\n",
    "\n",
    "**EJERCICIO e5_1:** Usando las variables `v1`, `v2`, `v3` dadas...\n",
    "\n",
    "- Mostrar la línea `Puedes ir en la locomotora del tren, o en avión`.\n",
    "- Mostrarlas en tres líneas, alineadas a la derecha"
   ]
  },
  {
   "cell_type": "code",
   "execution_count": 21,
   "metadata": {},
   "outputs": [
    {
     "name": "stdout",
     "output_type": "stream",
     "text": [
      "Puedes ir en la locomotora del tren, o en avión.\n",
      "          locomotora\n",
      "               avión\n",
      "                tren\n"
     ]
    }
   ],
   "source": [
    "v1 = 'locomotora'\n",
    "v2 = 'avión'\n",
    "v3 = 'tren'\n",
    "print(f\"Puedes ir en la {v1} del {v3}, o en {v2}.\")\n",
    "print (f'{v1:>20}')\n",
    "print (f'{v2:>20}')\n",
    "print (f'{v3:>20}')"
   ]
  },
  {
   "cell_type": "markdown",
   "metadata": {},
   "source": [
    "## Ficheros\n",
    "\n",
    "### Apertura\n",
    "\n",
    "La función `open` devuelve un objeto de tipo `file`, que permite leer y escribir un fichero.\n",
    "\n",
    "    mi_fichero = open(<ruta-fichero>, [<modo>])\n",
    "\n",
    "`ruta-fichero` es un string con el nombre/ruta del fichero, y `modo` puede ser uno de los siguientes:\n",
    "\n",
    "> `'r'`: lectura (el defecto, si no se especifica), `'w'`: modo escritura, `'a'`: modo _append_\n",
    "\n",
    "Por defecto, los ficheros se consideran de texto, lo que implica que se usa una codificación concreta (por defecto, el configurado en la máquina) para los caracteres.\n",
    "\n",
    "- Si el fichero es binario, debe indicarse añadiendo `'b'` al modo especificado para evitar modificaciones indeseadas."
   ]
  },
  {
   "cell_type": "code",
   "execution_count": 22,
   "metadata": {},
   "outputs": [],
   "source": [
    "f = open('myfile.txt', 'w')"
   ]
  },
  {
   "cell_type": "markdown",
   "metadata": {},
   "source": [
    "### Lectura y escritura\n",
    "\n",
    "El objeto fichero se puede usar para escribir con el método `write(<string>)`. \n",
    "\n",
    "Para cerrar un fichero (sea de lectura o escritura) se usa el método `close()`."
   ]
  },
  {
   "cell_type": "code",
   "execution_count": 23,
   "metadata": {},
   "outputs": [],
   "source": [
    "f.write('Just some text\\n')\n",
    "f.write('Some more\\n')\n",
    "f.close()"
   ]
  },
  {
   "cell_type": "code",
   "execution_count": 24,
   "metadata": {},
   "outputs": [
    {
     "ename": "ValueError",
     "evalue": "I/O operation on closed file.",
     "output_type": "error",
     "traceback": [
      "\u001b[0;31m---------------------------------------------------------------------------\u001b[0m",
      "\u001b[0;31mValueError\u001b[0m                                Traceback (most recent call last)",
      "\u001b[0;32m/var/folders/54/zlrf3qt95mn2fh854zxqp5wh0000gn/T/ipykernel_1389/3230208410.py\u001b[0m in \u001b[0;36m<module>\u001b[0;34m\u001b[0m\n\u001b[0;32m----> 1\u001b[0;31m \u001b[0mf\u001b[0m\u001b[0;34m.\u001b[0m\u001b[0mwrite\u001b[0m\u001b[0;34m(\u001b[0m\u001b[0;34m'aaaa'\u001b[0m\u001b[0;34m)\u001b[0m\u001b[0;34m\u001b[0m\u001b[0;34m\u001b[0m\u001b[0m\n\u001b[0m",
      "\u001b[0;31mValueError\u001b[0m: I/O operation on closed file."
     ]
    }
   ],
   "source": [
    "f.write('aaaa')"
   ]
  },
  {
   "cell_type": "markdown",
   "metadata": {},
   "source": [
    "Para leer de un fichero existen varios métodos:\n",
    "\n",
    "- `read(<num>)`: lee `num` caracteres (o bytes), o bien el fichero entero\n",
    "- `readline()` :  lee una sola línea\n",
    "- `readlines()`: lee todas las líneas y devuelve una lista"
   ]
  },
  {
   "cell_type": "code",
   "execution_count": 26,
   "metadata": {},
   "outputs": [
    {
     "name": "stdout",
     "output_type": "stream",
     "text": [
      "['Just some text\\n', 'Some more\\n']\n"
     ]
    }
   ],
   "source": [
    "f = open('myfile.txt')\n",
    "text = f.readlines()\n",
    "f.close()\n",
    "\n",
    "print(text)\n"
   ]
  },
  {
   "cell_type": "markdown",
   "metadata": {},
   "source": [
    "### Prácticas recomendadas\n",
    "\n",
    "1. La sentencia `with` (_context manager_) permite asociar acciones predeterminadas a un objeto.\n",
    "   - En el caso de un fichero, `with` asegura que se cierre aunque haya algún error en las operaciones realizadas con él.\n",
    "2. Una manera eficiente de leer un fichero línea a línea es recorrerlo en bucle (es iterable)"
   ]
  },
  {
   "cell_type": "code",
   "execution_count": 27,
   "metadata": {},
   "outputs": [
    {
     "name": "stdout",
     "output_type": "stream",
     "text": [
      "Just some text\n",
      "Some more\n",
      "\n",
      "¿El fichero está cerrado? 1: False\n",
      "\n",
      "¿El fichero está cerrado? 2: True\n"
     ]
    }
   ],
   "source": [
    "with open('myfile.txt') as f:\n",
    "    for line in f:\n",
    "        print(line.strip())\n",
    "    print('\\n¿El fichero está cerrado? 1:', f.closed)\n",
    "        \n",
    "print('\\n¿El fichero está cerrado? 2:', f.closed)"
   ]
  },
  {
   "cell_type": "markdown",
   "metadata": {},
   "source": [
    "<br/>\n",
    "\n",
    "<div style=\"background-color:powderblue;\">\n",
    "\n",
    "**EJERCICIO e5_2:** Leer un ficheros de texto.\n",
    "\n",
    "Leer fichero `datos/e5_2.txt`, y mostrar las líneas."
   ]
  },
  {
   "cell_type": "code",
   "execution_count": 30,
   "metadata": {},
   "outputs": [
    {
     "name": "stdout",
     "output_type": "stream",
     "text": [
      "dato1  12  2   5\n",
      "dato2   5  3  -3\n",
      "dato3  21  5   2\n",
      "dato4  -4  2   1\n"
     ]
    }
   ],
   "source": [
    "with open('datos/e5_2.txt') as f:\n",
    "    for line in f:\n",
    "        print(line.strip())\n",
    "   \n",
    "        \n"
   ]
  },
  {
   "cell_type": "markdown",
   "metadata": {},
   "source": [
    "## Serialización\n",
    "\n",
    "Los métodos de lectura y escritura de ficheros vistos solo escriben o leen _strings_. Para manejar otro tipos de datos, se requieren conversiones. P.ej.:"
   ]
  },
  {
   "cell_type": "code",
   "execution_count": 31,
   "metadata": {},
   "outputs": [
    {
     "name": "stdout",
     "output_type": "stream",
     "text": [
      "Read: 256 <class 'int'>\n"
     ]
    }
   ],
   "source": [
    "num = 256\n",
    "\n",
    "with open('myfile.txt', 'w') as f:\n",
    "    f.write(str(num))\n",
    "\n",
    "with open('myfile.txt') as f:\n",
    "    num_read = int(f.read())\n",
    "\n",
    "print('Read:', num_read, type(num_read))"
   ]
  },
  {
   "cell_type": "markdown",
   "metadata": {},
   "source": [
    "Este método se torna rápidamente muy farragoso para datos más complejos. Sin embargo, existen protocolos que definen como convertir objetos en strings (_serializar_) de manera estándar y cómoda."
   ]
  },
  {
   "cell_type": "markdown",
   "metadata": {},
   "source": [
    "### JSON\n",
    "\n",
    "JSON (JavaScript Object Notation) es un estándar muy popular, usado para la representación de números, strings, listas y diccionarios en formato texto. \n",
    "\n",
    "No es específico de Python, por lo que permite almacenar información, y también compartirla entre diferentes lenguajes.\n",
    "\n",
    "En Python se puede usar con el módulo `json`."
   ]
  },
  {
   "cell_type": "code",
   "execution_count": 32,
   "metadata": {},
   "outputs": [
    {
     "name": "stdout",
     "output_type": "stream",
     "text": [
      "Json repr: <class 'str'> {\"a\": 10, \"b\": [0, 1, 2]}\n"
     ]
    }
   ],
   "source": [
    "import json\n",
    "\n",
    "d = {'a': 10, 'b': [0, 1, 2]}\n",
    "\n",
    "d_json = json.dumps(d)\n",
    "print('Json repr:', type(d_json), d_json)"
   ]
  },
  {
   "cell_type": "code",
   "execution_count": 33,
   "metadata": {},
   "outputs": [],
   "source": [
    "with open('myfile.txt', 'w') as f:\n",
    "    json.dump(d, f)"
   ]
  },
  {
   "cell_type": "code",
   "execution_count": 34,
   "metadata": {},
   "outputs": [
    {
     "name": "stdout",
     "output_type": "stream",
     "text": [
      "Read: <class 'dict'> {'a': 10, 'b': [0, 1, 2]}\n"
     ]
    }
   ],
   "source": [
    "with open('myfile.txt') as f:\n",
    "    obj_read = json.load(f)\n",
    "\n",
    "print('Read:', type(obj_read), obj_read)"
   ]
  },
  {
   "cell_type": "markdown",
   "metadata": {},
   "source": [
    "### Pickle\n",
    "\n",
    "El módulo `pickle` permite (de)serializar cualquier objeto Python (no solo los tipos básicos, como JSON), en un formato binario (serie de bytes, en lugar de caracteres).\n",
    "\n",
    "Las desventajas de Pickle (que me llevan a recomendar `json`) son dos: \n",
    "- Es específico de Python, por lo que no se puede leer con otros lenguajes\n",
    "- No es seguro, puesto que un fichero Pickle podría, potencialmente, codificar código malicioso\n",
    "\n",
    "La ventaja de Pickle es que permite almacenar incluso clases de usuario, y es eficiente, lo cual puede ser útil en algunos casos.\n",
    "  \n",
    "Las funciones ofrecidas por `pickle` son las mismas que las de `json`."
   ]
  },
  {
   "cell_type": "code",
   "execution_count": 35,
   "metadata": {},
   "outputs": [
    {
     "name": "stdout",
     "output_type": "stream",
     "text": [
      "Pickle repr: <class 'bytes'> b'\\x80\\x03}q\\x00(X\\x01\\x00\\x00\\x00aq\\x01K\\nX\\x01\\x00\\x00\\x00bq\\x02]q\\x03(K\\x00K\\x01K\\x02eu.'\n"
     ]
    }
   ],
   "source": [
    "import pickle\n",
    "\n",
    "d = {'a': 10, 'b': [0, 1, 2]}\n",
    "\n",
    "d_pickle = pickle.dumps(d)\n",
    "print('Pickle repr:', type(d_pickle), d_pickle)"
   ]
  },
  {
   "cell_type": "code",
   "execution_count": 36,
   "metadata": {},
   "outputs": [],
   "source": [
    "with open('myfile.txt', 'wb') as f:\n",
    "    pickle.dump(d, f)"
   ]
  },
  {
   "cell_type": "code",
   "execution_count": 37,
   "metadata": {},
   "outputs": [
    {
     "name": "stdout",
     "output_type": "stream",
     "text": [
      "�\u0003}q\u0000(X\u0001\u0000\u0000\u0000aq\u0001K\n",
      "X\u0001\u0000\u0000\u0000bq\u0002]q\u0003(K\u0000K\u0001K\u0002eu."
     ]
    }
   ],
   "source": [
    "!cat myfile.txt"
   ]
  },
  {
   "cell_type": "code",
   "execution_count": 38,
   "metadata": {},
   "outputs": [
    {
     "name": "stdout",
     "output_type": "stream",
     "text": [
      "Read: <class 'dict'> {'a': 10, 'b': [0, 1, 2]}\n"
     ]
    }
   ],
   "source": [
    "with open('myfile.txt', 'rb') as f:\n",
    "    obj_read = pickle.load(f)\n",
    "\n",
    "print('Read:', type(obj_read), obj_read)"
   ]
  },
  {
   "cell_type": "markdown",
   "metadata": {},
   "source": [
    "### Funciones `eval` y `exec`\n",
    "\n",
    "Las funciones `eval` y `exec` pueden usarse para ejecutar código python expresado en forma literal (string). Esto puede considerarse otra manera de deserializar objetos y código previamente almacenados como strings.\n",
    "\n",
    "- `eval` acepta expresiones únicas y devuelven su evaluación\n",
    "- `exec` ejecuta una serie de instrucciones, pero siempre devuelve `None`\n",
    "\n",
    "**NOTA:** es un riesgo utilizar `eval/exec` con expresiones/instrucciones que no creemos nosotros mismos (p.ej. por entrada de usuario), pues puede contenter código malicioso."
   ]
  },
  {
   "cell_type": "code",
   "execution_count": 47,
   "metadata": {},
   "outputs": [
    {
     "name": "stdout",
     "output_type": "stream",
     "text": [
      "20\n",
      "Texto original: hola mundo\n",
      "Texto encriptado: krod pxqgr\n"
     ]
    }
   ],
   "source": [
    "# Supongamos que recibes esta expresión encriptada\n",
    "expresion_encriptada = 'x**2 + 5*x + 6'\n",
    "clave = {'x': 2}  # Aquí se proporciona la clave para desencriptar 'x'\n",
    "\n",
    "# Desencriptar y evaluar la expresión\n",
    "resultado = eval(expresion_encriptada, clave)\n",
    "print(resultado)  # Imprimirá 20 (2**2 + 5*2 + 6 = 20)\n",
    "\n",
    "# Script de encriptación en forma de cadena\n",
    "script_encriptacion = '''\n",
    "texto = \"hola mundo\"\n",
    "clave = 3\n",
    "texto_encriptado = \"\"\n",
    "\n",
    "for caracter in texto:\n",
    "    if caracter.isalpha():\n",
    "        codigo = ord(caracter)\n",
    "        codigo += clave\n",
    "\n",
    "        if caracter.isupper():\n",
    "            if codigo > ord('Z'):\n",
    "                codigo -= 26\n",
    "            elif codigo < ord('A'):\n",
    "                codigo += 26\n",
    "        elif caracter.islower():\n",
    "            if codigo > ord('z'):\n",
    "                codigo -= 26\n",
    "            elif codigo < ord('a'):\n",
    "                codigo += 26\n",
    "\n",
    "        texto_encriptado += chr(codigo)\n",
    "    else:\n",
    "        texto_encriptado += caracter\n",
    "\n",
    "print(\"Texto original:\", texto)\n",
    "print(\"Texto encriptado:\", texto_encriptado)\n",
    "'''\n",
    "\n",
    "# Ejecutar el script de encriptación\n",
    "exec(script_encriptacion)\n",
    "\n",
    "\n",
    "\n"
   ]
  },
  {
   "cell_type": "markdown",
   "metadata": {},
   "source": [
    "## Lectura de la entrada estándar\n",
    "\n",
    "### Función `input`\n",
    "\n",
    "Para capturar información en un programa interactivo, se puede usar la función `input(<prompt>)`, que devuelve un string."
   ]
  },
  {
   "cell_type": "code",
   "execution_count": 48,
   "metadata": {},
   "outputs": [
    {
     "name": "stdout",
     "output_type": "stream",
     "text": [
      "Hola Hola\n"
     ]
    }
   ],
   "source": [
    "nombre = input(\"Dime tu nombre:\")\n",
    "print(f\"Hola {nombre}\")"
   ]
  },
  {
   "cell_type": "markdown",
   "metadata": {},
   "source": [
    "- Si utilizamos `input` para recibir valores no textuales, tendremos que convertirlos a su tipo correspondiente (o usar `eval`, para expresiones más complejas)"
   ]
  },
  {
   "cell_type": "code",
   "execution_count": null,
   "metadata": {},
   "outputs": [],
   "source": [
    "edad = int(input(\"Dime tu edad:\"))\n",
    "print(f\"Te quedan {60-edad} años para cumplir 60\")"
   ]
  },
  {
   "cell_type": "markdown",
   "metadata": {},
   "source": [
    "### `sys.stdin` \n",
    "\n",
    "Una alternativa a `input` es usar directamente el objeto `stdin` del módulo `sys`, que soporta operaciones como las de un fichero.\n",
    "\n",
    "- Este se usa más habitualmente cuando se ejecuta un script tras un _pipe_ o con un fichero redirigido.\n",
    "\n",
    "Un ejemplo sería el siguiente (nota: no parece funcionar _dentro de Jupyter_, donde _stdin_ debe de estar cambiado):\n",
    "\n",
    "```python\n",
    "import sys\n",
    "texto = sys.stdin.readline()\n",
    "print('Texto introducido:', texto)\n",
    "```\n",
    "\n",
    "Sin embargo, podemos probarlo ejecutando el comando fuera de Jupyter con `!`. El código del fichero `ejemplos/stdin.py` es exactamente el mostrado arriba."
   ]
  },
  {
   "cell_type": "code",
   "execution_count": 50,
   "metadata": {},
   "outputs": [
    {
     "name": "stdout",
     "output_type": "stream",
     "text": [
      "Texto introducido: Hola don Pepito\n",
      "\n"
     ]
    }
   ],
   "source": [
    "!echo \"Hola don Pepito\" | python3 ejemplos/stdin.py"
   ]
  },
  {
   "cell_type": "markdown",
   "metadata": {},
   "source": [
    "## Epílogo\n",
    "\n",
    "Borramos el fichero creado en los ejemplos (solo por limpieza...)"
   ]
  },
  {
   "cell_type": "code",
   "execution_count": 51,
   "metadata": {},
   "outputs": [],
   "source": [
    "from pathlib import Path\n",
    "try:    Path('myfile.txt').unlink()\n",
    "except: pass"
   ]
  },
  {
   "cell_type": "markdown",
   "metadata": {},
   "source": [
    "<br/>\n",
    "\n",
    "<div style=\"background-color:powderblue;\">\n",
    "\n",
    "**EJERCICIO e5_3:** Leer un ficheros con datos ordenados por filas\n",
    "\n",
    "Leer fichero `datos/e5_2.txt`, y almacenar en un diccionario `datos`:\n",
    "- Clave: primer campo\n",
    "- Valor: lista con el resto de campos\n",
    "\n",
    "P. ej.:  `{'dato': [12, 5, ...],  ...}`\n",
    "\n",
    "Mostrar el diccionario producido.\n",
    "    \n",
    "A continuación, mostrar la suma de los valores para cada clave (línea)."
   ]
  },
  {
   "cell_type": "code",
   "execution_count": 57,
   "metadata": {},
   "outputs": [
    {
     "name": "stdout",
     "output_type": "stream",
     "text": [
      "Diccionario:\n",
      "{'dato1': [12, 2, 5], 'dato2': [5, 3, -3], 'dato3': [21, 5, 2], 'dato4': [-4, 2, 1]}\n",
      "\n",
      "Suma de los valores para cada clave:\n",
      "Hola esto es dato1: 19\n",
      "Hola esto es dato2: 5\n",
      "Hola esto es dato3: 28\n",
      "Hola esto es dato4: -1\n"
     ]
    }
   ],
   "source": [
    "datos = {}\n",
    "with open('datos/e5_2.txt', 'r') as file:\n",
    "    for line in file:\n",
    "        fields = line.strip().split()\n",
    "        key = fields[0]\n",
    "        values = [int(x) for x in fields[1:]]\n",
    "        datos[key] = values\n",
    "\n",
    "# Mostrar el diccionario producido\n",
    "print(\"Diccionario:\")\n",
    "print(datos)\n",
    "\n",
    "# Calcular la suma de los valores para cada clave y mostrarla\n",
    "print(\"\\nSuma de los valores para cada clave:\")\n",
    "for key, value in datos.items():\n",
    "    suma = sum(value)\n",
    "    print(\"Hola esto es {}: {}\".format(key,value))"
   ]
  },
  {
   "cell_type": "markdown",
   "metadata": {},
   "source": [
    "<br/>\n",
    "\n",
    "<div style=\"background-color:powderblue;\">\n",
    "\n",
    "**EJERCICIO e5_4:** Mejora: Líneas en blanco y comentarios\n",
    "\n",
    "Repetir el ejercicio anterior, pero en esta ocasión leyendo el fichero `datos/e5_4.txt`, ignorando las líneas en blanco y todas aquellas que comiencen por el carácter `#`.\n",
    "    \n",
    "Ayuda: los métodos `strip` y `startswith` del tipo _str_ pueden resultar útiles.\n"
   ]
  },
  {
   "cell_type": "code",
   "execution_count": 56,
   "metadata": {},
   "outputs": [
    {
     "name": "stdout",
     "output_type": "stream",
     "text": [
      "Diccionario:\n",
      "{'dato1': [12, 2, 5], 'dato2': [5, 3, -3], 'dato3': [21, 5, 2], 'dato4': [-4, 2, 1]}\n",
      "\n",
      "Suma de los valores para cada clave:\n",
      "dato1: 19\n",
      "dato2: 5\n",
      "dato3: 28\n",
      "dato4: -1\n"
     ]
    }
   ],
   "source": [
    "# Leer el archivo y almacenar en un diccionario\n",
    "datos = {}\n",
    "with open('datos/e5_4.txt', 'r') as file:\n",
    "    for line in file:\n",
    "        line = line.strip()\n",
    "        if line and not line.startswith(\"#\"):\n",
    "            fields = line.split()\n",
    "            key = fields[0]\n",
    "            values = [int(x) for x in fields[1:]]\n",
    "            datos[key] = values\n",
    "\n",
    "# Mostrar el diccionario producido\n",
    "print(\"Diccionario:\")\n",
    "print(datos)\n",
    "\n",
    "# Calcular la suma de los valores para cada clave y mostrarla\n",
    "print(\"\\nSuma de los valores para cada clave:\")\n",
    "for key, value in datos.items():\n",
    "    suma = sum(value)\n",
    "    print(f\"{key}: {suma}\")\n"
   ]
  },
  {
   "cell_type": "markdown",
   "metadata": {},
   "source": [
    "<br/>\n",
    "\n",
    "<div style=\"background-color:powderblue;\">\n",
    "\n",
    "**EJERCICIO e5_5:** Ampliación: datos ordenados por columnas\n",
    "\n",
    "Repetir de nuevo el ejercicio, pero leyendo el fichero `datos/e5_5.txt`, que ordena los datos por columnas."
   ]
  }
 ],
 "metadata": {
  "kernelspec": {
   "display_name": "Python 3.7.6 64-bit",
   "language": "python",
   "name": "python3"
  },
  "language_info": {
   "codemirror_mode": {
    "name": "ipython",
    "version": 3
   },
   "file_extension": ".py",
   "mimetype": "text/x-python",
   "name": "python",
   "nbconvert_exporter": "python",
   "pygments_lexer": "ipython3",
   "version": "3.7.6"
  },
  "vscode": {
   "interpreter": {
    "hash": "aee8b7b246df8f9039afb4144a1f6fd8d2ca17a180786b69acc140d282b71a49"
   }
  }
 },
 "nbformat": 4,
 "nbformat_minor": 4
}
