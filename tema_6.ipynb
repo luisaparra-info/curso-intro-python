{
 "cells": [
  {
   "cell_type": "markdown",
   "metadata": {
    "slideshow": {
     "slide_type": "slide"
    },
    "tags": []
   },
   "source": [
    "<font size=6>\n",
    "\n",
    "<b>Curso de Programación en Python</b>\n",
    "</font>\n",
    "\n",
    "<font size=4>\n",
    "    \n",
    "Curso de formación interna, CIEMAT. <br/>\n",
    "Madrid, marzo de 2023\n",
    "\n",
    "Antonio Delgado Peris\n",
    "</font>\n",
    "\n",
    "https://github.com/andelpe/curso-intro-python/\n",
    "\n",
    "<br/>"
   ]
  },
  {
   "cell_type": "markdown",
   "metadata": {},
   "source": [
    "# Tema 6 - Funciones y módulos"
   ]
  },
  {
   "cell_type": "markdown",
   "metadata": {},
   "source": [
    "## Objetivos\n",
    "\n",
    "- Aprender a definir funciones y utilizarlas\n",
    "  - Entender las diferentes maneras de pasar argumentos a una función \n",
    "- Conocer la creación y uso de módulos y paquetes\n",
    "- Introducir el _scope_ (alcance) y _namespaces_ de los objetos Python, en particular para funciones y módulos\n",
    "- Conocer el uso de los _docstrings_ para documentar código Python"
   ]
  },
  {
   "cell_type": "markdown",
   "metadata": {},
   "source": [
    "## Funciones en Python\n",
    "\n",
    "Una función es un bloque de instrucciones que se ejecutan cuando la función es llamada.\n",
    "\n",
    "- Permiten reutilizar código, sin tener que reescribirlo.\n",
    "- Son esenciales para cualquier programa no trivial.\n",
    "\n",
    "Una función se define con la sentencia `def`:\n",
    "\n",
    "    def mi_funcion(arg1, arg2, ...):\n",
    "        instruccion\n",
    "        instruccion\n",
    "       \n",
    "- La ejecución de la sentencia `def` crear un nuevo _objeto función_ ligado al nombre `mi_funcion`.\n",
    "- El _cuerpo_ de la función no se interpreta hasta que la función es usada: `mi_funcion(args)`\n",
    "\n",
    "En el cuerpo de la función:\n",
    "\n",
    "- Los identificadores de argumentos se pueden usar como variables locales\n",
    "- La sentencia `return` especifica el valor devuelto por la función (por defecto es `None`)"
   ]
  },
  {
   "cell_type": "code",
   "execution_count": null,
   "metadata": {},
   "outputs": [],
   "source": [
    "def suma(x, y):\n",
    "     res = x + y\n",
    "     return res\n",
    "\n",
    "s = suma(3, 4)\n",
    "print(s)"
   ]
  },
  {
   "cell_type": "markdown",
   "metadata": {},
   "source": [
    "<div style=\"background-color:powderblue;\">\n",
    "\n",
    "**EJERCICIO e6_1:** \n",
    "\n",
    "- Crear una función que acepte un argumento numérico y que devuelva el doble del valor pasado.\n",
    "- Probarla con las siguientes entradas: `2`, `-10.0`, `'abcd'`"
   ]
  },
  {
   "cell_type": "markdown",
   "metadata": {},
   "source": [
    "### Argumentos de funciones\n",
    "\n",
    "Los argumentos de una función de Python se _pasan por asignación_ (equivalente a _por referencia_).\n",
    "\n",
    "- El valor pasado _se asigna_ a una variable local (no se hace una copia)\n",
    "- Si el valor es modificable, y se modifica, la variable externa verá el mismo cambio\n",
    "- Como las variables no tienen tipo, tampoco lo tienen los argumentos de una función"
   ]
  },
  {
   "cell_type": "code",
   "execution_count": 1,
   "metadata": {},
   "outputs": [
    {
     "name": "stdout",
     "output_type": "stream",
     "text": [
      "Variable externa 'nums' antes: [0, 1]\n",
      "\n",
      "-- 'var' interna original: [0, 1]\n",
      "-- 'var' interna modificada: [0, 1, 2]\n",
      "\n",
      "Variable externa 'nums' después: [0, 1, 2]\n"
     ]
    }
   ],
   "source": [
    "def addElem(var, val):\n",
    "    print(\"\\n-- 'var' interna original:\", var)\n",
    "    var.append(val)\n",
    "    print(\"-- 'var' interna modificada:\", var)\n",
    "\n",
    "nums = [0, 1]\n",
    "print(\"Variable externa 'nums' antes:\", nums)\n",
    "addElem(nums, 2)\n",
    "print(\"\\nVariable externa 'nums' después:\", nums)"
   ]
  },
  {
   "cell_type": "code",
   "execution_count": 2,
   "metadata": {},
   "outputs": [
    {
     "name": "stdout",
     "output_type": "stream",
     "text": [
      "Variable externa 'x' antes: 3\n",
      "\n",
      "-- 'var' interna original: 3\n",
      "-- 'var' interna modificada: 8\n",
      "\n",
      "Variable externa 'x' después: 3\n"
     ]
    }
   ],
   "source": [
    "def autoSuma(var, amount):\n",
    "    print(\"\\n-- 'var' interna original:\", var)\n",
    "    var += amount\n",
    "    print(\"-- 'var' interna modificada:\", var)\n",
    "\n",
    "x = 3\n",
    "print(\"Variable externa 'x' antes:\", x)\n",
    "autoSuma(x, 5)\n",
    "print(\"\\nVariable externa 'x' después:\", x)"
   ]
  },
  {
   "cell_type": "markdown",
   "metadata": {},
   "source": [
    "#### Formas de pasar argumentos\n",
    "\n",
    "- Por posición: `f(3, 4)`\n",
    "- Nombrados: `f(x=3, y=4)`\n",
    "- Expansión: \n",
    "  - `f(*(3, 4))` equivale a `f(3, 4)`\n",
    "  - `f(**{x:3, y:4}` equivale a `f(x=3, y=4)`\n",
    "\n",
    "Si se combinan, el orden siempre debe respetar: \n",
    "- Nombrados después de posición\n",
    "- Expandidos después de no expandidos.\n",
    "\n",
    "P.ej.:\n",
    "\n",
    "    f(1, z=3, y=3)\n",
    "    f(1 *[2,3])\n",
    "    f(1, *mytuple, w=10, **mydict)"
   ]
  },
  {
   "cell_type": "code",
   "execution_count": 3,
   "metadata": {},
   "outputs": [
    {
     "name": "stdout",
     "output_type": "stream",
     "text": [
      "a1: 3   a2: 4    a3: 5\n",
      "\n",
      "a1: 3   a2: 4    a3: 5\n",
      "\n",
      "a1: 3   a2: 4    a3: 5\n",
      "\n",
      "a1: 3   a2: 4    a3: 5\n",
      "\n"
     ]
    }
   ],
   "source": [
    "def f(a1, a2, a3):\n",
    "    print(f'a1: {a1}   a2: {a2}    a3: {a3}\\n')\n",
    "\n",
    "f(3, *(4,5))\n",
    "\n",
    "f(3, 4, a3=5)\n",
    "\n",
    "f(*(3,4), a3=5)\n",
    "\n",
    "f(3, **{'a2':4, 'a3':5})"
   ]
  },
  {
   "cell_type": "markdown",
   "metadata": {},
   "source": [
    "#### Formas de recoger argumentos\n",
    "\n",
    "- Argumentos con valores por defecto (si no son especificados por el llamante):   "
   ]
  },
  {
   "cell_type": "code",
   "execution_count": 7,
   "metadata": {},
   "outputs": [
    {
     "name": "stdout",
     "output_type": "stream",
     "text": [
      "a1: 3   a2: 4\n",
      "a1: 3   a2: 0\n"
     ]
    }
   ],
   "source": [
    "def f1(a1, a2=0):\n",
    "    print(f'a1: {a1}   a2: {a2}')\n",
    "    \n",
    "f1(3, 4)\n",
    "f1(3)"
   ]
  },
  {
   "cell_type": "markdown",
   "metadata": {},
   "source": [
    "- Resto de argumentos recogidos en una tupla:"
   ]
  },
  {
   "cell_type": "code",
   "execution_count": 10,
   "metadata": {},
   "outputs": [
    {
     "name": "stdout",
     "output_type": "stream",
     "text": [
      "a1: 3   rest: (4, 5, 6, 0, 9)\n",
      "a1: 3   rest: ()\n"
     ]
    }
   ],
   "source": [
    "def f2(a1, *rest):\n",
    "    print(f'a1: {a1}   rest: {rest}')\n",
    "\n",
    "f2(3, 4, 5,6,0,9)\n",
    "f2(3)"
   ]
  },
  {
   "cell_type": "markdown",
   "metadata": {},
   "source": [
    "- Resto de argumentos _nombrados_ recogidos en un diccionario:"
   ]
  },
  {
   "cell_type": "code",
   "execution_count": 9,
   "metadata": {},
   "outputs": [
    {
     "name": "stdout",
     "output_type": "stream",
     "text": [
      "a1: 3   rest: {'y': 5, 'x': 4}\n",
      "a1: 3   rest: {'x': 4, 'y': 5}\n",
      "a1: 3   rest: {}\n"
     ]
    }
   ],
   "source": [
    "def f3(a1, **rest):\n",
    "    print(f'a1: {a1}   rest: {rest}')\n",
    "\n",
    "f3(a1=3, y=5, x=4)\n",
    "f3(3, x=4, y=5)\n",
    "f3(3)"
   ]
  },
  {
   "cell_type": "code",
   "execution_count": 4,
   "metadata": {},
   "outputs": [
    {
     "name": "stdout",
     "output_type": "stream",
     "text": [
      "a1: 3   vrest: (4, 5)   drest: {'pepe': 8}\n"
     ]
    }
   ],
   "source": [
    "def f3(a1, *vrest, **drest):\n",
    "    print(f'a1: {a1}   vrest: {vrest}   drest: {drest}')\n",
    "    \n",
    "f3(3, 4, 5, pepe=8)"
   ]
  },
  {
   "cell_type": "markdown",
   "metadata": {},
   "source": [
    "<br>\n",
    "<div style=\"background-color:powderblue;\">\n",
    "\n",
    "**EJERCICIO e6_2:** \n",
    "\n",
    "- Crear una función `f`, que acepte un argumento obligatorio `v1`, otro `v2`, con valor por defecto `10`, y devuelva la multiplicación de los dos argumentos.\n",
    "- Probar la función con `f(3)` y `f(2, 5)`.\n",
    "- Añadir a la función un argumento de tipo `**kwd` para recoger cualquier otro argumento pasado con nombre, de modo que si se pasa el argumento `suma` con valor `True`, en lugar de devolver la multiplicación, se devuelve la suma de los argumentos indicados en el punto anterior.\n",
    "- Probarla con `f(3)`, `f(2, 5)`, `f(3, suma=True)`, `f(2, 5, suma=True)`, `f(2, 5, suma=False)`."
   ]
  },
  {
   "cell_type": "code",
   "execution_count": null,
   "metadata": {},
   "outputs": [],
   "source": [
    "def f(v1, v2=10, **kwd):\n",
    "    if 'suma' in kwd and kwd['suma']:\n",
    "        return v1 + v2\n",
    "    else:\n",
    "        return v1 * v2\n",
    "\n",
    "# Probar la función con distintos argumentos\n",
    "print(f(3))  # Debería devolver 30 (3 * 10)\n",
    "print(f(2, 5))  # Debería devolver 10 (2 * 5)\n",
    "print(f(3, suma=True))  # Debería devolver 3 + 10 = 13\n",
    "print(f(2, 5, suma=True))  # Debería devolver 2 + 5 = 7\n",
    "print(f(2, 5, suma=False))  # Debería devolver 2 * 5 = 10"
   ]
  },
  {
   "cell_type": "markdown",
   "metadata": {},
   "source": [
    "### Polimorfismo\n",
    "\n",
    "En Python, los argumentos de una función no tienen tipo, por lo que no tiene sentido tener diferentes definiciones de la función para diferentes tipos de argumentos (como sucede en otros lenguajes: _sobrecarga_).\n",
    "\n",
    "Para que nuestra función soporte diferentes argumentos solo se requiere... usarlo.\n",
    "\n",
    "- _Duck type: If it walks like a duck and quacks like a duck..._\n",
    "\n",
    "Esta filosofía gusta a unos más y a otros menos, pero es una herramienta muy potente\n",
    "\n",
    "- ¡Es importante documentar bien las funciones!"
   ]
  },
  {
   "cell_type": "code",
   "execution_count": 5,
   "metadata": {},
   "outputs": [
    {
     "name": "stdout",
     "output_type": "stream",
     "text": [
      " -- EN muestra --\n",
      "a\n",
      "2\n",
      "(3, 3)\n",
      "4\n",
      " -- EN muestra --\n",
      "a\n",
      "s\n",
      "t\n",
      "r\n",
      " -- EN muestra --\n",
      "# Curso de Programación en Python\n",
      "\n",
      "<font size=4>\n",
      "\n"
     ]
    }
   ],
   "source": [
    "def muestra(iterable):\n",
    "    print(' -- EN muestra --')\n",
    "    for i, x in enumerate(iterable):  \n",
    "        if i > 3: break\n",
    "        print(str(x).strip())\n",
    "\n",
    "muestra( ['a', 2, (3,3), 4 ])\n",
    "muestra( 'astring' )\n",
    "muestra( open('README.md') )\n"
   ]
  },
  {
   "cell_type": "markdown",
   "metadata": {},
   "source": [
    "### Anotaciones de funciones\n",
    "\n",
    "A pesar de lo dicho anteriormente, y debido al interés de algunos usuarios, Python 3 añadió la manera de _documentar_ de manera estática los tipos esperados para argumentos y valores de retorno de funciones, con las _anotaciones_.\n",
    "\n",
    "Ejemplo:\n",
    "\n",
    "```python\n",
    "def (a: int, b: float) -> float:\n",
    "    return a * b\n",
    "```\n",
    "\n",
    "Las anotaciones de tipos no tienen valor sintáctico para Python, solo se usan para generar meta-información sobre el propio programa en la fase previa a la ejecución. Así pueden servir como una manera más estándar de documentar nuestras funciones, y de permitir que el propio programa u otras librerías puedan consultar estas indicaciones (cómo usar nuestro código).\n",
    "\n",
    "Existen librerías externas, como `mypy`, que permiten realizar una comprobación sintáctica de tipos en nuestro código, de manera estática (sin ejecutarlo), al estilo de un compilador clásico. Esto nos permite detectar errores de tipado antes de la ejecución.\n",
    "\n",
    "Como se ha indicado, las anotaciones son totalmente voluntarias, y también se pueden usar solo en algunas funciones o partes de nuestro programa.\n",
    "\n",
    "<br>"
   ]
  },
  {
   "cell_type": "markdown",
   "metadata": {},
   "source": [
    "<div style=\"background-color:powderblue;\">\n",
    "\n",
    "**EJERCICIO e6_3:** \n",
    "\n",
    "- Utilizar el código de los ejercicios e5_4 y e5_5, para crear dos funciones `readRows(lines)` y `readCols(lines)`, que aceptan un iterable (p.ej., lista de líneas, o objeto fichero), y devuelven un diccionario con los datos."
   ]
  },
  {
   "cell_type": "markdown",
   "metadata": {},
   "source": [
    "<div style=\"background-color:powderblue;\">\n",
    "\n",
    "**EJERCICIO e6_4:** \n",
    "\n",
    "- Implementar una función `readData(fname, cols=False)`, que acepta un nombre de fichero, y, opcionalmente, un _boolean_,  que indica si se lee por filas (por defecto), o columans (`cols=True`). La función `readData` hará uso de las funciones del ejercicio e6_3, para devolver un diccionario con los datos."
   ]
  },
  {
   "cell_type": "markdown",
   "metadata": {},
   "source": [
    "<div style=\"background-color:powderblue;\">\n",
    "\n",
    "**EJERCICIO e6_5:** \n",
    "    \n",
    "Crear una función `showTotals(fname, cols=False, **kwd)`, que llama a `readData` del ejercicio e6_4, y muestra la suma para cada clave presente. Además, si `mult=X` aparece en `kwd`, multiplica las sumas por `X`."
   ]
  },
  {
   "cell_type": "markdown",
   "metadata": {},
   "source": [
    "### Funciones como objetos\n",
    "\n",
    "La definición de una función crea un objeto función.\n",
    "\n",
    "- No confundir la función, con el resultado de su invocación\n",
    "\n",
    "Un objeto función (como cualquier otro objeto) puede copiarse, pasarse como argumento, devolverse con `return`, etc.\n",
    "\n",
    "- Paradigma de programación funcional con Python "
   ]
  },
  {
   "cell_type": "code",
   "execution_count": 6,
   "metadata": {},
   "outputs": [
    {
     "name": "stdout",
     "output_type": "stream",
     "text": [
      "--Fijamos x=3 y creamos una f(3, y)\n",
      "3 * 5 = 15\n",
      "--Llamamos a 'func(y)' con y=4\n",
      "3 * 4 = 12\n"
     ]
    }
   ],
   "source": [
    "# Function that creates and returns a new function\n",
    "def funcFactory(x):\n",
    "    print(f\"--Fijamos x={x} y creamos una f({x}, y)\")\n",
    "    def f(y):  print(f'{x} * {y} = {x*y}')\n",
    "    return f\n",
    "\n",
    "# Function that receives a function as argument, and calls it\n",
    "def funcCaller(func):\n",
    "    print(f\"--Llamamos a 'func(y)' con y=4\")\n",
    "    func(4)\n",
    "\n",
    "# Produce a function with fixed x=3\n",
    "myfunc = funcFactory(3)\n",
    "\n",
    "# Assign the function\n",
    "a = myfunc\n",
    "\n",
    "# Call the function with y=5\n",
    "a(5)\n",
    "\n",
    "# Pass the function as argument (it will be called with y=4)\n",
    "funcCaller(a)"
   ]
  },
  {
   "cell_type": "markdown",
   "metadata": {},
   "source": [
    "<div style=\"background-color:powderblue;\">\n",
    "\n",
    "**EJERCICIO e6_6:** \n",
    "\n",
    "Definir una función `func`, tal que dado el iterable `v`, la expresión `sorted(v, key=func)` devuelva `v` ordenado por la longitud de sus elementos.\n",
    "\n",
    "- Nota: `key` espera una función que se aplica a cada elemento de `v` antes de ordenar.\n",
    "    \n",
    "Por ejemplo:\n",
    "    \n",
    "```python\n",
    "  v = ['a', 'bbb', 'xx']\n",
    "  sorted(v, key=func) ---> ['a','xx','bbb']\n",
    "```"
   ]
  },
  {
   "cell_type": "markdown",
   "metadata": {},
   "source": [
    "\n",
    "<div style=\"background-color:powderblue;\">\n",
    "\n",
    "A continuación, buscar otra `func` que ordene un iterable por la longitud del segundo elemento de cada miembro. P. ej.:\n",
    "    \n",
    "```python\n",
    "v = [(0, 'a'), (1, 'bbb'), (2, 'xx')]\n",
    "sorted(v, key=func) ---> [(0, 'a'), (2, 'xx'), (1, 'bbb')]\n",
    "```"
   ]
  },
  {
   "cell_type": "code",
   "execution_count": null,
   "metadata": {},
   "outputs": [],
   "source": [
    "v = 'a', 'xx', 'bbb'\n",
    "sorted(v)"
   ]
  },
  {
   "cell_type": "code",
   "execution_count": null,
   "metadata": {},
   "outputs": [],
   "source": [
    "v = ['a', 'bbb', 'xx']\n",
    "# fill this"
   ]
  },
  {
   "cell_type": "code",
   "execution_count": null,
   "metadata": {},
   "outputs": [],
   "source": [
    "v = [(0, 'a'), (1, 'bbb'), (2, 'xx')]\n",
    "# fill this"
   ]
  },
  {
   "cell_type": "markdown",
   "metadata": {},
   "source": [
    "### Recursividad\n",
    "\n",
    "- Una función puede llamarse a sí misma\n",
    "- Funciona igual que en cualquier otro lenguaje\n",
    "- Se necesita una condición de salida que siempre se alcance"
   ]
  },
  {
   "cell_type": "code",
   "execution_count": null,
   "metadata": {},
   "outputs": [],
   "source": [
    "def factorial(x):\n",
    "   if x < 2:\n",
    "      return 1\n",
    "   else:\n",
    "      return x * factorial(x-1)\n",
    "\n",
    "print(factorial(5))"
   ]
  },
  {
   "cell_type": "markdown",
   "metadata": {},
   "source": [
    "<div style=\"background-color:powderblue;\">\n",
    "\n",
    "**EJERCICIO e6_7:** Recursividad.\n",
    "    \n",
    "Definir una función que busca un path entre 2 nodos de un grafo (definido según el ejercicio e4_3. Su firma será:\n",
    "```python\n",
    "find_path(grafo, start, end, path = [])\n",
    "```\n",
    "    \n",
    "- Donde `path` es el camino ya recorrido (en una llamada inicial, simplemente se omite).\n",
    "\n",
    "Se puede comprobar el resultado (buscar un camino posible entre dos nodos) con:\n",
    "    \n",
    "```python\n",
    "import modulos.graph_plot as gplt\n",
    "gplt.plotAll(grafo, path)\n",
    "```\n",
    "    \n",
    "- Donde `path` es un iterable con dos elementos, el nodo de inicio y el de final: `(start, end)`"
   ]
  },
  {
   "cell_type": "markdown",
   "metadata": {},
   "source": [
    "## Namespace y scope\n",
    "\n",
    "Los _namespaces_ dividen el conjunto de identificadores de objetos, de manera que sea posible repetir el mismo nombre en dos espacios independientes, sin que haya colisión.\n",
    "\n",
    "- Es análogo a como uno puede tener dos ficheros con el mismo nombre si están en directorios diferentes.\n",
    "\n",
    "Python define muchos espacios de nombres diferentes.\n",
    "\n",
    "- P.ej. existe un espacio de nombres para los objetos _built-in_, así como uno para cada módulo.\n",
    "- Cada función Python define su propio espacio de nombres para sus variables (por tanto, son locales).\n",
    "\n",
    "Una variable siempre puede identificarse como: `namespace.identificador`, p.ej:\n",
    "\n",
    "    math.log\n",
    "    __builtins__.print\n",
    "\n",
    "Un concepto relacionado es el de _scope_ (alcance). El _scope_ de un identificador (variable) es en qué partes del programa es accesible, sin usar un prefijo (indicando su namespace).\n",
    "\n",
    "- Las variables _built-in_ están siempre accesibles\n",
    "- Las variables del espacio de nombres global de un módulo son accesibles dentro de ese módulo\n",
    "- Las variables locales a una función (incluidos los argumentos) solo son accesible desde el propio cuerpo de la función\n",
    "\n",
    "Si no se especifica el namespace, una variable se busca primero en el local, luego en el módulo (global), y luego en _built-in_.\n",
    "\n",
    "- La sentencia `global <variable>` permite indicar que nos referimos a la variable global, y no a la local"
   ]
  },
  {
   "cell_type": "code",
   "execution_count": null,
   "metadata": {},
   "outputs": [],
   "source": [
    "a = 0\n",
    "b = 1\n",
    "\n",
    "def func1(x):     # x local  (param)\n",
    "    a = b + x     # a local, b global (lectura)\n",
    "    print(\"func1: a =\", a)\n",
    "\n",
    "def func2(x):\n",
    "    global b      # b global\n",
    "    b = a         # a global (lectura)\n",
    "    print(\"func2: b =\", b)\n",
    "\n",
    "func1(2)\n",
    "func2(2)\n",
    "print(\"out: a =\", a)\n",
    "print(\"out: b =\", b)"
   ]
  },
  {
   "cell_type": "markdown",
   "metadata": {},
   "source": [
    "## Módulos y paquetes\n",
    "\n",
    "### Módulos\n",
    "\n",
    "Un módulo es un fichero que agrupa código Python, principalmente definiciones de objetos, para su reutilización.\n",
    "\n",
    "- El caso más habitual es que el módulo `foo` corresponda al fichero `foo.py` \n",
    "\n",
    "  - Nota: también existen módulos de código compilados de _C_: `foo.so`\n",
    "\n",
    "Un módulo crea su propio espacio de nombres, que se hace accesible al importar el módulo.\n",
    "\n",
    "- Y accedemos a sus objetos con la notación `modulo.objeto`"
   ]
  },
  {
   "cell_type": "code",
   "execution_count": null,
   "metadata": {},
   "outputs": [],
   "source": [
    "import math         # Ligamos el identificador 'math' al namespace del módulo\n",
    "print(math.pi)      # Accedemos al objeto `pi` en ese namespace\n",
    "\n",
    "import math as mod  # Ligamos el identificador 'mod' al namespace del módulo 'math'\n",
    "print(mod.pi)\n",
    "\n",
    "from math import pi as PI   # Ligamos el id 'PI' al objeto 'pi' del módulo 'math'\n",
    "print(PI)"
   ]
  },
  {
   "cell_type": "markdown",
   "metadata": {},
   "source": [
    "Los módulos también pueden ejecutar otro tipo de instrucciones, además de las de asignación (creación de objetos).\n",
    "\n",
    "- Cualquier instrucción contenida en el módulo se ejecuta cuando se llama a `import` (pero solo la primera vez)\n",
    "- Esto permite incluir código de inicialización, o utilizar un `.py` a la vez como módulo o como script"
   ]
  },
  {
   "cell_type": "markdown",
   "metadata": {},
   "source": [
    "Ejemplo de módulo (contenidos de `modulos/samplemod.py`)\n",
    "\n",
    "```python\n",
    "print('Loading...')\n",
    "\n",
    "def double(x):\n",
    "    return 2*x\n",
    "\n",
    "if __name__ == \"__main__\":\n",
    "    import sys\n",
    "    print('Tu valor doblado:', double(float(sys.argv[1])))\n",
    "```\n",
    "\n",
    "Si lo importamos, veremos el resultado del `print`, y podremos usar `double`."
   ]
  },
  {
   "cell_type": "code",
   "execution_count": null,
   "metadata": {},
   "outputs": [],
   "source": [
    "import modulos.samplemod"
   ]
  },
  {
   "cell_type": "code",
   "execution_count": null,
   "metadata": {},
   "outputs": [],
   "source": [
    "modulos.samplemod.double(34)"
   ]
  },
  {
   "cell_type": "markdown",
   "metadata": {},
   "source": [
    "A continuación, lanzamos el `.py` como un script:"
   ]
  },
  {
   "cell_type": "code",
   "execution_count": null,
   "metadata": {},
   "outputs": [],
   "source": [
    "!python modulos/samplemod.py 34"
   ]
  },
  {
   "cell_type": "markdown",
   "metadata": {},
   "source": [
    "También se puede ver ejecutando `python modulos/samplemod.py 34` en una terminal."
   ]
  },
  {
   "cell_type": "markdown",
   "metadata": {},
   "source": [
    "#### Módulos y bytecodes\n",
    "\n",
    "Cuando un módulo (o un script) se usa por primera vez, Python lo compila a _bytecodes_, y genera un fichero `.pyc`, o un directorio `__pycache__`.\n",
    "\n",
    "Para acelerar las ejecuciones, si el fichero no se modifica, las siguientes veces que se utilice el módulo, Python ejecutará directamente el código pre-compilado, en lugar de generarlo de nuevo."
   ]
  },
  {
   "cell_type": "markdown",
   "metadata": {},
   "source": [
    "### Paquetes\n",
    "\n",
    "Los paquetes son agrupaciones de módulos.\n",
    "\n",
    "- Físicamente, se corresponden con directorios que albergan ficheros `.py`\n",
    "\n",
    "      mypack/__init__.py\n",
    "      mypack/mymod1.py\n",
    "      mypack/mymod2.py\n",
    "      mypack/subpack/__init__.py  \n",
    "      mypack/subpack/mymod1.py\n",
    "\n",
    "\n",
    "- Desde el punto de vista lógico, organizan jerárquicamente los namespaces: \n",
    "\n",
    "  ```python\n",
    "  # Import a module preserving namespace path\n",
    "  import  mypack.mymod1\n",
    "  mypack.mymod1.some_function()\n",
    "\n",
    "  # Import a module into our namespace\n",
    "  from  mypack.subpack  import  mymod1\n",
    "  mymod1.other_func()\n",
    "\n",
    "  # Import a function from within a module\n",
    "  from  mypack.subpack.mymod1  import  other_func\n",
    "  other_func()\n",
    "  ```"
   ]
  },
  {
   "cell_type": "markdown",
   "metadata": {},
   "source": [
    "Para que un directorio se considere un paquete (puedan importarse módulos de él), debe albergar el fichero `__init__.py` aunque sea vacío.\n",
    "\n",
    "- `__init__.py` puede contener código de inicialización\n",
    "\n",
    "- También pueden configurar los efectos de `import mypack`/`from mypack import *`\n",
    "  - Por defecto, no importarán nada (supondría un riesgo, y es mala práctica, por contaminar el namespace)\n",
    "  - Se puede ver un ejemplo en: `modulos/__init__.py` y `modulos/pack/__init__.py`"
   ]
  },
  {
   "cell_type": "code",
   "execution_count": null,
   "metadata": {},
   "outputs": [],
   "source": [
    "import modulos\n",
    "modulos.submod.f(3)"
   ]
  },
  {
   "cell_type": "markdown",
   "metadata": {
    "tags": []
   },
   "source": [
    "### Búsqueda de módulos\n",
    "\n",
    "Cuando se usa la instrucción `import`, el módulo se busca primero en los _built-in_.\n",
    "\n",
    "Si no se encuentra, se busca en los directorios contenidos en la variable `sys.path`. Esta variable contiene:\n",
    "\n",
    "- El directorio del script en ejecución\n",
    "- Los dirs de la variable de entorno `PYTHONPATH`\n",
    "- Los dirs por defecto de la instalación (librerías del sistema)\n",
    "\n",
    "Notas: \n",
    "\n",
    "- Si definimos módulos con el mismo nombre que los del sistema (en el dir actual o en `PYTHONPATH`), ocultaremos los del sistema.\n",
    "- La variable `sys.path` se puede variar en ejecución."
   ]
  },
  {
   "cell_type": "code",
   "execution_count": null,
   "metadata": {},
   "outputs": [],
   "source": [
    "import sys\n",
    "for dir in sys.path: print(dir)"
   ]
  },
  {
   "cell_type": "markdown",
   "metadata": {},
   "source": [
    "Definir `PYTHONPATH`:\n",
    "\n",
    "- Linux:  `export PYTHONPATH=$PYTHONPATH:<newdir>`\n",
    "- Windows: Buscar \"Editar las variables de entorno del sistema\". Más info: https://docs.python.org/3/using/windows.html#excursus-setting-environment-variables"
   ]
  },
  {
   "cell_type": "markdown",
   "metadata": {},
   "source": [
    "### Recargar módulos\n",
    "\n",
    "Por defecto, los módulos solo se cargan una vez (_it's a feature!_).\n",
    "\n",
    "Pero si estamos desarrollando código, y probándolo, quizás queramos recargarlos cuando realicemos cambios. Se puede hacer con:\n",
    "\n",
    "```python\n",
    "import importlib\n",
    "importlib.reload(module)\n",
    "```\n",
    "\n",
    "De hecho, con Jupyter (o Ipython), el cambio puede ser automático cuando haya cambios, con:\n",
    "\n",
    "```python\n",
    "%load_ext autoreload\n",
    "%autoreload 2\n",
    "```"
   ]
  },
  {
   "cell_type": "code",
   "execution_count": null,
   "metadata": {},
   "outputs": [],
   "source": [
    "import modulos.samplemod\n",
    "print('Nothing happened.\\n\\nNow, see:')\n",
    "\n",
    "import importlib\n",
    "mod = importlib.reload(modulos.samplemod)"
   ]
  },
  {
   "cell_type": "markdown",
   "metadata": {},
   "source": [
    "### Sobre Jupyter y los módulos\n",
    "\n",
    "Aunque Jupyter es un entorno muy potente, cuando uno desarrolla código _en serio_, es conveniente (al menos, es mi opinión) ir moviendo el código a módulos Python (`.py`, no `.ipynb`), de manera que sea fácilmente usable en otros programas, u otras personas, o incluso ejecutable como script.\n",
    "\n",
    "Igualmente, es muy recomendable usar control de versiones, como Git (incluso con los notebooks: extensión _@jupyterlab/git_)"
   ]
  },
  {
   "cell_type": "markdown",
   "metadata": {},
   "source": [
    "## Docstrings\n",
    "\n",
    "- Sirven para documentar python\n",
    "- Cualquier string comenzando módulos, clases, funciones, se considera documentación\n",
    "- Es lo que vemos con `help()` (también hay herramientas para generar html...)\n",
    "\n",
    "¡Es muy importante documentar el código!"
   ]
  },
  {
   "cell_type": "code",
   "execution_count": null,
   "metadata": {},
   "outputs": [],
   "source": [
    "def funcFactory(x):\n",
    "    \"\"\"\n",
    "    Creates and returns a new function that multiplies its argument by 'x'.\n",
    "    \"\"\"\n",
    "    def f(y):  \n",
    "        \"Multiplies input by a fixed number\"\n",
    "        print(f'{x} * {y} = {x*y}')\n",
    "    return f\n",
    "\n",
    "help(funcFactory)"
   ]
  },
  {
   "cell_type": "code",
   "execution_count": null,
   "metadata": {},
   "outputs": [],
   "source": [
    "f = funcFactory(5)\n",
    "help(f)"
   ]
  },
  {
   "cell_type": "code",
   "execution_count": null,
   "metadata": {},
   "outputs": [],
   "source": [
    "help(modulos.samplemod)"
   ]
  },
  {
   "cell_type": "markdown",
   "metadata": {},
   "source": [
    "<div style=\"background-color:powderblue;\">\n",
    "\n",
    "**EJERCICIO e6_8:** \n",
    "    \n",
    "Crear un módulo en nuevo fichero `mydata.py`, que agrupe las funciones del ejercicio e6_3, e6_4 y e6_5.\n",
    "\n",
    "- El módulo solo debe mostrar como interfaz las funciones `readData` y `showTotals`. Cualquier otra función se considera auxiliar, y se debe marcar como privada nombrándola con un `_` inicial.\n",
    "\n",
    "- Incluir un _docstring_ al principio del módulo.\n",
    "\n",
    "Colocar el nuevo módulo en la carpeta `modulos`. Comprobar los ejemplos de e6_4 en el notebook, importando el módulo creado. Ver la documentación del módulo con `help`."
   ]
  }
 ],
 "metadata": {
  "kernelspec": {
   "display_name": "Python 3.7.6 64-bit",
   "language": "python",
   "name": "python3"
  },
  "language_info": {
   "codemirror_mode": {
    "name": "ipython",
    "version": 3
   },
   "file_extension": ".py",
   "mimetype": "text/x-python",
   "name": "python",
   "nbconvert_exporter": "python",
   "pygments_lexer": "ipython3",
   "version": "3.7.6"
  },
  "toc-autonumbering": false,
  "toc-showcode": false,
  "toc-showmarkdowntxt": false,
  "toc-showtags": true,
  "vscode": {
   "interpreter": {
    "hash": "aee8b7b246df8f9039afb4144a1f6fd8d2ca17a180786b69acc140d282b71a49"
   }
  }
 },
 "nbformat": 4,
 "nbformat_minor": 4
}
