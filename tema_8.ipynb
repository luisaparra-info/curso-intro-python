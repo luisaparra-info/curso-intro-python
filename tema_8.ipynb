{
 "cells": [
  {
   "cell_type": "markdown",
   "metadata": {
    "slideshow": {
     "slide_type": "slide"
    },
    "tags": []
   },
   "source": [
    "<font size=6>\n",
    "\n",
    "<b>Curso de Programación en Python</b>\n",
    "</font>\n",
    "\n",
    "<font size=4>\n",
    "    \n",
    "Curso de formación interna, CIEMAT. <br/>\n",
    "Madrid, marzo de 2023\n",
    "\n",
    "Antonio Delgado Peris\n",
    "</font>\n",
    "\n",
    "https://github.com/andelpe/curso-intro-python/\n",
    "\n",
    "<br/>"
   ]
  },
  {
   "cell_type": "markdown",
   "metadata": {},
   "source": [
    "# Tema 8 - Otros recursos _(avanzados)_"
   ]
  },
  {
   "cell_type": "markdown",
   "metadata": {},
   "source": [
    "## Objetivos\n",
    "\n",
    "- Aprender a usar y gestionar las excepciones en Python\n",
    "- Introducir/profundizar en algunos recursos sintácticos _avanzados_\n",
    "  - _Comprenhensions_\n",
    "  - Decoradores\n",
    "  - Iteradores y generadores\n",
    "  - Context managers "
   ]
  },
  {
   "cell_type": "markdown",
   "metadata": {},
   "source": [
    "## Excepciones\n",
    "\n",
    "Permiten alterar el flujo de control de un programa, saltando la secuencia normal:\n",
    "\n",
    "    caller -> f1 -> f2 -> result2 -> f1 -> result1 -> caller\n",
    "    caller -> f1 -> f2 -> exception -> caller\n",
    "    \n",
    "Se suelen usar para controlar errores o situaciones excepcionales.\n",
    "\n",
    "Con las sentencia `try` y `except` se pueden capturar excepciones (errores) provocadas por el código de nuestros programas, para que no resulten _fatales_ (no terminen el programa). \n",
    "\n",
    "El uso de `try/except` puede permitir evitar:\n",
    "\n",
    "- La comprobación de errores tras cada operación:\n",
    "\n",
    "```c                                          \n",
    "if (doSth()!=0)    return ERROR\n",
    "if (doMore()!=0)   return ERROR\n",
    "if (whatever()!=0) return ERROR\n",
    "```\n",
    "\n",
    "```python\n",
    "try:\n",
    "    doSth()\n",
    "    doMore()\n",
    "except:\n",
    "    return ...\n",
    "```\n",
    "          \n",
    "- Comprobaciones previas:\n",
    "\n",
    "```python\n",
    "    if total > 0:               try:\n",
    "        ratio = part/total          ratio = part/total\n",
    "    else:                       except:\n",
    "        ratio = None                ratio = None\n",
    "```\n",
    "\n"
   ]
  },
  {
   "cell_type": "markdown",
   "metadata": {},
   "source": [
    "Uso del bloque `try/except`:\n",
    "\n",
    "```python\n",
    "try:\n",
    "    # Normal run code\n",
    "\n",
    "except (Excp1, Excp2):\n",
    "    # Execute if Excp1 or Excp2 were raised in try part\n",
    "\n",
    "except Excp3 as ex:    \n",
    "    # Execute if Excp3 (accessible as ‘ex’) was raised\n",
    "\n",
    "except:\n",
    "    # Execute if a different exception was raised\n",
    "\n",
    "else:\n",
    "    # Execute if no exception was raised\n",
    "\n",
    "finally:\n",
    "    # Execute no matter what (even if exception in catchers)\n",
    "    # Still, propagate non-caught exceptions\n",
    "\n",
    "```"
   ]
  },
  {
   "cell_type": "markdown",
   "metadata": {},
   "source": [
    "La instancia `ex` contiene información adicional. Su interfaz mínimo es aceptar cualquier entrada (string) en su construcción.\n",
    "\n",
    "- Lo muestra con el método: `__str__`. P. ej., con `print(ex)`\n",
    "\n",
    "Un ejemplo:"
   ]
  },
  {
   "cell_type": "code",
   "execution_count": null,
   "metadata": {},
   "outputs": [],
   "source": [
    "f = None\n",
    "\n",
    "try:\n",
    "    \n",
    "    f = open('myfile.txt', 'w')\n",
    "    print('-- File was opened\\n')\n",
    "    \n",
    "    f.write(str(3/0))\n",
    "    \n",
    "except IOError as ex:\n",
    "    print('ERROR: Dealing with file:', ex)\n",
    "    \n",
    "except ArithmeticError as ex:\n",
    "    print('ERROR: Maths error:', ex)\n",
    "    \n",
    "except Exception as ex:\n",
    "    print('ERROR: Unexpected:', ex)\n",
    "    \n",
    "finally:\n",
    "    if f: f.close(); \n",
    "    print('\\n-- File was closed')\n",
    "    from pathlib import Path\n",
    "    Path('myfile.txt').unlink()\n",
    "    print('-- File was removed')"
   ]
  },
  {
   "cell_type": "markdown",
   "metadata": {},
   "source": [
    "<br/>\n",
    "\n",
    "Nota: Como vimos, el `finally` anterior puede (_y debería_) sustituirse por una sentencia `with`"
   ]
  },
  {
   "cell_type": "markdown",
   "metadata": {},
   "source": [
    "<br/>\n",
    "\n",
    "<div style=\"background-color:powderblue;\">\n",
    "\n",
    "**EJERCICIO e8_1:** \n",
    "\n",
    "Definir dos funciones `div` y `div2`, que acepten un string `a` y un número `b` y hagan lo siguiente:\n",
    "\n",
    "- Convertir `a` a float. Si la conversión produce `ValueError`, se debe capturar e indicarlo por pantalla.\n",
    "- Realizar la división `a/b` y, o bien mostrar el resultado, o bien un mensaje de error, si se produce un `ZeroDivisionError`.\n",
    "\n",
    "La única diferencia entre `div` y `div2` es que la primera capturará explícitamente `ValueError` y `ZeroDivisionError` en un bloque `try/except`, mientras que la segunda solo puede capturar la genérica `Exception`.\n",
    "\n",
    "Probarlo con el código siguiente:"
   ]
  },
  {
   "cell_type": "code",
   "execution_count": 1,
   "metadata": {},
   "outputs": [
    {
     "name": "stdout",
     "output_type": "stream",
     "text": [
      "Input: 34 0\n",
      "Error: float division by zero\n",
      "Error: float division by zero\n",
      "\n",
      "Input: X 2\n",
      "Error: could not convert string to float: 'X'\n",
      "Error: could not convert string to float: 'X'\n",
      "\n",
      "Input: X 0\n",
      "Error: could not convert string to float: 'X'\n",
      "Error: could not convert string to float: 'X'\n",
      "\n",
      "Input: 34 2\n",
      "Resultado de la división: 17.0\n",
      "Resultado de la división: 17.0\n",
      "\n"
     ]
    }
   ],
   "source": [
    "def div(a, b):  pass\n",
    "def div2(a, b):  pass\n",
    "\n",
    "def div(a, b):\n",
    "    try:\n",
    "        a_float = float(a)\n",
    "        result = a_float / b\n",
    "        print(f\"Resultado de la división: {result}\")\n",
    "    except (ValueError, ZeroDivisionError) as e:\n",
    "        print(f\"Error: {e}\")\n",
    "\n",
    "def div2(a, b):\n",
    "    try:\n",
    "        a_float = float(a)\n",
    "        result = a_float / b\n",
    "        print(f\"Resultado de la división: {result}\")\n",
    "    except Exception as e:\n",
    "        print(f\"Error: {e}\")\n",
    "\n",
    "for a, b in ('34', 0), ('X', 2), ('X', 0), ('34', 2):\n",
    "    print('Input:', a, b)\n",
    "    div(a, b)\n",
    "    div2(a, b)\n",
    "    print()"
   ]
  },
  {
   "cell_type": "markdown",
   "metadata": {},
   "source": [
    "### Lanzar (y definir) excepciones\n",
    "\n",
    "Las excepciones son objetos (_sorprendente_), que derivan de la clase base `Exception` (o de una derivada de ella).\n",
    "\n",
    "- El árbol de herencia de las excepciones permite crear familias\n",
    "- Una instrucción `except MiClase` captura excepciones de `MiClase`, o de cualquier clase derivada\n",
    "- Es habitual que un proyecto Python defina su propia clase base derivada, y luego define tantas hijas como requiera\n",
    "\n",
    "Por ejemplo:\n",
    "\n",
    "    ArithmeticError --> OverflowError, ZeroDivisionError ...\n",
    "\n",
    "La sentencia `raise` permite lanzar excepciones de la clase que se desee (o directamente `Exception`):\n",
    "\n",
    "    raise Exception    # es igual que: raise Exception()\n",
    "    raise Exception('Too big')"
   ]
  },
  {
   "cell_type": "code",
   "execution_count": null,
   "metadata": {},
   "outputs": [],
   "source": [
    "print('Empezando...')\n",
    "raise Exception('Stop here!')\n",
    "print('...acabando.')"
   ]
  },
  {
   "cell_type": "markdown",
   "metadata": {},
   "source": [
    "<br/>\n",
    "\n",
    "<div style=\"background-color:powderblue;\">\n",
    "\n",
    "**EJERCICIO e8_2:** \n",
    "\n",
    "- Definir una función que acepte un entero y nos devuelva su representación binaria (`bin`)\n",
    "- Si el argumento no es un valor entero debe lanzar una excepción de un tipo nuevo `NumeroError`, indicándolo."
   ]
  },
  {
   "cell_type": "markdown",
   "metadata": {},
   "source": [
    "## Comprenhensions\n",
    "Una _list comprehension_ es una forma concisa de crear una lista usando un bucle implícito.\n",
    "\n",
    "Su forma básica es:\n",
    "\n",
    "```python\n",
    "[<expr(x)> for x in <Iterable>]\n",
    "```"
   ]
  },
  {
   "cell_type": "code",
   "execution_count": null,
   "metadata": {},
   "outputs": [],
   "source": [
    "strings = ['this', 'and', 'those']\n",
    "\n",
    "lengths = []\n",
    "for s in strings:\n",
    "    lengths.append(len(s))\n",
    "print(lengths)\n",
    "\n",
    "lengths2 = [len(s) for s in strings]\n",
    "print(lengths2)"
   ]
  },
  {
   "cell_type": "code",
   "execution_count": null,
   "metadata": {},
   "outputs": [],
   "source": [
    "matriz = [[0,1], [0,2]]\n",
    "[x[0] for x in matriz]"
   ]
  },
  {
   "cell_type": "markdown",
   "metadata": {},
   "source": [
    "La forma extendida de las _list comprenhensions_ es:\n",
    "\n",
    "```python\n",
    "[<expr(x,y)>  for x in I1   for y in I2   if <cond(x,y)>]\n",
    "```"
   ]
  },
  {
   "cell_type": "code",
   "execution_count": null,
   "metadata": {},
   "outputs": [],
   "source": [
    "v = (0, 1, 2)\n",
    "[x  for x in v  if (x % 2) == 0]  "
   ]
  },
  {
   "cell_type": "code",
   "execution_count": null,
   "metadata": {},
   "outputs": [],
   "source": [
    "w = (10, 16)\n",
    "[x+y  for x in v  for y in w]"
   ]
  },
  {
   "cell_type": "markdown",
   "metadata": {},
   "source": [
    "<br/>\n",
    "\n",
    "<div style=\"background-color:powderblue;\">\n",
    "\n",
    "**EJERCICIO e8_3:** \n",
    "\n",
    "Dado el grafo `g`, representado por un diccionario, obtener el máximo número de conexiones de un nodo, en una sola línea."
   ]
  },
  {
   "cell_type": "code",
   "execution_count": null,
   "metadata": {},
   "outputs": [],
   "source": [
    "g = {\n",
    "    'A': ['B', 'C'],\n",
    "    'B': ['A', 'C', 'D'],\n",
    "    'C': ['A'],\n",
    "    'D': ['B', 'C'],\n",
    "}"
   ]
  },
  {
   "cell_type": "markdown",
   "metadata": {},
   "source": [
    "- Una _dict comprenhension_ es la forma análoga de crear diccionarios de manera concisa:"
   ]
  },
  {
   "cell_type": "code",
   "execution_count": null,
   "metadata": {},
   "outputs": [],
   "source": [
    "{x: x**2 for x in (2, 4, 6)}"
   ]
  },
  {
   "cell_type": "code",
   "execution_count": null,
   "metadata": {},
   "outputs": [],
   "source": [
    "{x: (2*i+2)**2  for i, x in enumerate(('a', 'b', 'c'))}"
   ]
  },
  {
   "cell_type": "markdown",
   "metadata": {},
   "source": [
    "## Decoradores\n",
    "\n",
    "Los decoradores son funciones que modifican a otras funciones. Equivalen a lo siguiente:\n",
    "\n",
    "```python\n",
    "myfunc = decorador(myfunc)\n",
    "\n",
    "```\n",
    "\n",
    "La función `decorador` acepta un objeto función como argumento, y devuelve un nuevo objeto función, tras realizar alguna modificación sobre ella.\n",
    "\n",
    "Para facilitar su uso, los decoradores se pueden aplicar añadiendo una línea `@decorador` delante de la definición de una función. En el caso, anterior sería:\n",
    "\n",
    "```python\n",
    "@decorador\n",
    "def myfunc(..):\n",
    "    bla bla\n",
    "```\n",
    "\n",
    "Un ejemplo tonto sería:"
   ]
  },
  {
   "cell_type": "code",
   "execution_count": null,
   "metadata": {},
   "outputs": [],
   "source": [
    "def hay_que_saludar(func):\n",
    "    def wrapper(x):\n",
    "        print('Hola Antonio!')\n",
    "        return func(x)\n",
    "    return wrapper\n",
    "\n",
    "@hay_que_saludar\n",
    "def double(x):\n",
    "    return 2*x\n",
    "\n",
    "print(double(5))"
   ]
  },
  {
   "cell_type": "markdown",
   "metadata": {},
   "source": [
    "Un ejemplo con más utilidad potencial, de uno de los módulos de ejemplo:"
   ]
  },
  {
   "cell_type": "code",
   "execution_count": null,
   "metadata": {},
   "outputs": [],
   "source": [
    "from modulos.decorador import timer\n",
    "\n",
    "@timer\n",
    "def sumador(v):\n",
    "    return f'{sum(v):.2e}'\n",
    "\n",
    "print(\"Resultado:\", sumador(range(1000**2)))"
   ]
  },
  {
   "cell_type": "markdown",
   "metadata": {},
   "source": [
    "<br/>\n",
    "\n",
    "Además de los decoradores de funciones, también existen decoradores de métodos de clases (como los ejemplos `@classmethod` y `@staticmethod`, que ya vimos), e incluso de clases mismas (con funcionamiento análogo: el decorador modifica la clase sobre la que se usa)."
   ]
  },
  {
   "cell_type": "markdown",
   "metadata": {},
   "source": [
    "## Iteradores\n",
    "  \n",
    "Vimos que un objeto _iterable_ puede recorrerse elemento a elemento. Técnicamente, un iterable debe devolver un objeto _iterador_.\n",
    "\n",
    "- Un iterable es un objeto que implementa el método `__iter__`, que devuelve un iterador para sus elementos. Se invoca llamando a `iter(mi_iterable)`\n",
    "\n",
    "- Un iterador debe implementar el método `__next__`, que devuelve el siguiente elemento. Se invoca llamando a `next(mi_iterador)`\n",
    "\n",
    "- Cuando no quedan más elementos, el iterador lanza una excepción `StopIteration`."
   ]
  },
  {
   "cell_type": "code",
   "execution_count": null,
   "metadata": {},
   "outputs": [],
   "source": [
    "l = [2, 4]\n",
    "\n",
    "# Get an iterator 'i' on the iterable 'l'\n",
    "i = iter(l)\n",
    "\n",
    "# Consume a couple of items\n",
    "print(next(i))\n",
    "print(next(i))\n",
    "print(next(i))"
   ]
  },
  {
   "cell_type": "code",
   "execution_count": null,
   "metadata": {},
   "outputs": [],
   "source": [
    "l = [2, 4, 6, 8]\n",
    "\n",
    "# Get an iterator 'i' on the iterable 'l'\n",
    "i = iter(l)\n",
    "\n",
    "# Consume a couple of items\n",
    "print(next(i))\n",
    "print(next(i))\n",
    "\n",
    "print('Antes del for')\n",
    "\n",
    "# Consume the rest\n",
    "for x in i:  print(x)\n",
    "    \n"
   ]
  },
  {
   "cell_type": "markdown",
   "metadata": {},
   "source": [
    "De hecho, el funcionamiento del bucle `for` para recorrer un iterable, es el siguiente:\n",
    "\n",
    "- Obtiene un iterador del iterable\n",
    "- Llama al método `next` repetidamente, hasta que recibe un `StopIteration`\n",
    "\n",
    "El sistema también funciona para hacer un `for` sobre un iterador (si hacemos `iter(iterador)` recibimos el mismo iterador)."
   ]
  },
  {
   "cell_type": "markdown",
   "metadata": {},
   "source": [
    "<br/>\n",
    "\n",
    "<div style=\"background-color:powderblue;\">\n",
    "\n",
    "**EJERCICIO e8_4:** \n",
    "\n",
    "Crear una función `funcfor`, que replique el funcionamiento de `for`, sin usar la sentencia `for`."
   ]
  },
  {
   "cell_type": "code",
   "execution_count": null,
   "metadata": {},
   "outputs": [],
   "source": [
    "def funcfor(v, f):\n",
    "    \"\"\"\n",
    "    Aplica la función 'f' sobre todos los elementos del iterable v\n",
    "    \"\"\"\n",
    "    # TODO: rellenar la función\n",
    "\n",
    "# Probarlo con:\n",
    "funcfor(l, print)"
   ]
  },
  {
   "cell_type": "markdown",
   "metadata": {},
   "source": [
    "## Generadores\n",
    "\n",
    "Los generadores ofrecen un interfaz alternativo (más moderno) de recorrer series de elementos.\n",
    "\n",
    "Las funciones o expresiones _generadores_ producen un _objeto generador_, que es un tipo de iterador, que es siempre perezoso.\n",
    " - Una función/expresión generador equivale a un iterable (produce un iterador)\n",
    " - Un objeto generador _es_ un iterador, pero siempre perezoso\n",
    "\n",
    "Las funciones generador no implementan el método `__iter__`. Utilizan la sentencia `yield`.\n",
    "- La función generador no incluyen ninguna sentencia `return`, pero debe incluir `yield`.\n",
    "- La sentencia `yield` devuelve un valor, pero no acaba la función, sino que queda _parada_ hasta una nueva llamada.\n",
    "- Cuando la función completa (ejecuta su última línea y sale), produce un `StopIteration`"
   ]
  },
  {
   "cell_type": "code",
   "execution_count": null,
   "metadata": {},
   "outputs": [],
   "source": [
    "def gen():\n",
    "    i = 0\n",
    "    while i<6:\n",
    "        yield i\n",
    "        i += 1\n",
    "\n",
    "# La función generador devuelve el objeto generador (iterador). \n",
    "# No hace nada más (no se ejecuta 'i = 0')\n",
    "g = gen()\n",
    "\n",
    "# El objeto generador soporta 'next': causa la ejecución de la función hasta 'yield'\n",
    "print(next(g))\n",
    "\n",
    "print('Antes del for')\n",
    "\n",
    "# Como 'g' es un iterador, también puede ser iterado usando 'for'\n",
    "for i in g:\n",
    "    print(i)"
   ]
  },
  {
   "cell_type": "markdown",
   "metadata": {},
   "source": [
    "De hecho, una forma más simple (y habitual) de hacer lo anterior sería la siguiente (igual que con un iterable):"
   ]
  },
  {
   "cell_type": "code",
   "execution_count": null,
   "metadata": {},
   "outputs": [],
   "source": [
    "for i in gen():\n",
    "    print(i)"
   ]
  },
  {
   "cell_type": "markdown",
   "metadata": {},
   "source": [
    "<br/>\n",
    "\n",
    "También existe las expresiones generador, que son análogas a las _list comprehensions_, pero devuelven un generador."
   ]
  },
  {
   "cell_type": "code",
   "execution_count": null,
   "metadata": {},
   "outputs": [],
   "source": [
    "squares = [x*x for x in range(1,5)]\n",
    "print(squares)"
   ]
  },
  {
   "cell_type": "code",
   "execution_count": null,
   "metadata": {},
   "outputs": [],
   "source": [
    "squares = (x*x for x in range(1,5))\n",
    "print(squares)\n",
    "print(type(squares))\n",
    "\n",
    "for sq in squares:\n",
    "    print(sq)"
   ]
  },
  {
   "cell_type": "markdown",
   "metadata": {},
   "source": [
    "<br/>\n",
    "\n",
    "<div style=\"background-color:powderblue;\">\n",
    "\n",
    "**EJERCICIO e8_5:** \n",
    "\n",
    "Crear un iterable que produzca el factorial de números enteros desde 0 hasta un máximo dado. Hacerlo usando el interfaz de iteradores y el de generadores.\n",
    "    \n",
    "Probar las dos implementaciones con el código siguiente:"
   ]
  },
  {
   "cell_type": "code",
   "execution_count": null,
   "metadata": {},
   "outputs": [],
   "source": [
    "for n, fact in enumerate(ITERABLE_FACTORIAL(6)):\n",
    "    print(f'{n:2} --> {fact:4}')"
   ]
  },
  {
   "cell_type": "markdown",
   "metadata": {},
   "source": [
    "## Context Managers\n",
    "\n",
    "Los _context managers_ permiten asociar acciones automáticas a la adquisición y liberación de un objeto.\n",
    "\n",
    "- El ejemplo más típico es la gestión de un fichero, que garantiza que se cerrará aunque ocurra un error.\n",
    "- Otro ejemplo es del objeto `Lock` del módulo `threading`, que asegura que se hace un `release` al acabar:\n",
    "\n",
    "```python\n",
    "some_lock = threading.Lock()\n",
    "with some_lock:\n",
    "    do_something\n",
    "```\n",
    "\n",
    "No vamos a entrar en muchos detalles, pero existen dos manera de programar nuevos context managers:\n",
    "\n",
    "1. En una clase:\n",
    "\n",
    "   - Definir los métodos especiales `__enter__` y `__exit__`, con lo que se debe hacer al adquirir y liberar el objeto.\n",
    "\n",
    "\n",
    "2. Con una _función generador_\n",
    "\n",
    "   - Aplicando el decorador `contextlib.contextmanager`\n",
    "   - Incluyendo una expresión del siguiente tipo:\n",
    "  \n",
    "```python\n",
    "try:\n",
    "    act_on_acquisition\n",
    "    yield resource\n",
    "finally:\n",
    "    clean_on_release\n",
    "```"
   ]
  }
 ],
 "metadata": {
  "kernelspec": {
   "display_name": "Python 3.7.6 64-bit",
   "language": "python",
   "name": "python3"
  },
  "language_info": {
   "codemirror_mode": {
    "name": "ipython",
    "version": 3
   },
   "file_extension": ".py",
   "mimetype": "text/x-python",
   "name": "python",
   "nbconvert_exporter": "python",
   "pygments_lexer": "ipython3",
   "version": "3.7.6"
  },
  "vscode": {
   "interpreter": {
    "hash": "aee8b7b246df8f9039afb4144a1f6fd8d2ca17a180786b69acc140d282b71a49"
   }
  }
 },
 "nbformat": 4,
 "nbformat_minor": 4
}
